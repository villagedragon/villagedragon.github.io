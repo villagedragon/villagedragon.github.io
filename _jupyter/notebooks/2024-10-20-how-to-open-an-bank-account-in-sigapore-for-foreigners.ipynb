{
 "cells": [
  {
   "cell_type": "raw",
   "id": "bef8b949-1bed-4bc8-be80-77cff8ea78ed",
   "metadata": {
    "editable": true,
    "raw_mimetype": "",
    "slideshow": {
     "slide_type": ""
    },
    "tags": []
   },
   "source": [
    "---\n",
    "layout: article\n",
    "title: How to Open a Bank Account in Sigapore for Foreigners\n",
    "custom_css: article.css\n",
    "include_mathjax: true\n",
    "---"
   ]
  },
  {
   "cell_type": "code",
   "execution_count": null,
   "id": "e1d95057-a2cd-4d3f-be9f-24d01f40b991",
   "metadata": {
    "editable": true,
    "execution": {
     "iopub.execute_input": "2025-09-30T02:48:02.564873Z",
     "iopub.status.busy": "2025-09-30T02:48:02.564352Z",
     "iopub.status.idle": "2025-09-30T02:48:03.440854Z",
     "shell.execute_reply": "2025-09-30T02:48:03.440070Z"
    },
    "slideshow": {
     "slide_type": ""
    },
    "tags": [
     "remove_input"
    ]
   },
   "outputs": [],
   "source": [
    "# import necessary libs (available in jupyter/scipy-notebook docker image)\n",
    "import os\n",
    "import pandas as pd \n",
    "import numpy as np\n",
    "import matplotlib.pyplot as plt \n",
    "from matplotlib.ticker import FormatStrFormatter\n",
    "\n",
    "# define watermark \n",
    "def add_watermark(ax, x, y):\n",
    "    ax.text(ax.get_xlim()[0]+ x,\n",
    "            ax.get_ylim()[0]+ y,\n",
    "            \"ladydragoncapital\",\n",
    "            alpha=0.3, fontsize=16)\n",
    "\n",
    "\n",
    "# globals\n",
    "HOME_DIR = '/home/jovyan/_jupyter'\n",
    "DATA_DIR = os.path.join(HOME_DIR, 'data')\n",
    "\n",
    "# read in csv data\n",
    "years = pd.read_csv(os.path.join(DATA_DIR, 'countries_economic_stability_features.csv'))\n",
    "volatilities = pd.read_csv(os.path.join(DATA_DIR, 'countries_currency_volatility.csv'))\n",
    "political_stability = pd.read_csv(os.path.join(DATA_DIR, 'countries_political_stability.csv')).head()"
   ]
  },
  {
   "cell_type": "markdown",
   "id": "f31ad5f4-a8ea-4c19-87a8-4d8da179995d",
   "metadata": {
    "editable": true,
    "slideshow": {
     "slide_type": ""
    },
    "tags": []
   },
   "source": [
    "## Introduction ##\n",
    "\n",
    "In this article, we will introduce Singapore as an option for international diversification. To restate the main goal of our international diversification service: \n",
    "\n",
    "+ **Political risk reduction.** Build a safety net against political volatility in any one market, such as war and asset freezing,\n",
    "  \n",
    "+ **Economic risk reduction.** Hedge against domestic market volatility and currency inflation.\n",
    "\n",
    "+ **Growth potential enhancement.** Benefit from economic growth in different markets, which can lead to improved returns.\n",
    "\n",
    "\n",
    "First we will explore the economic stability and political stability of this country. Then we will explain how to remotely open a bank account in Singapore as a foreigner. "
   ]
  },
  {
   "cell_type": "markdown",
   "id": "37c0cb54-f95c-421b-97d6-0d29a06f7447",
   "metadata": {
    "editable": true,
    "slideshow": {
     "slide_type": ""
    },
    "tags": []
   },
   "source": [
    "## Economic Stability of Singapore ##\n",
    "\n",
    "To understand the economic stability of Singapore, we used the US economy, one of the most dominant forces in the global market, as the control sample to compare the following features: GDP growth, inflation rate, and unemployment rate. \n",
    "\n",
    "### GDP growth ###\n",
    "\n",
    "As shown in Figure 1, the GDP growth rates of Singapore and the US have a similar pattern, which indicates that these two economies are correlated. Meanwhile, Figure 2 shows that both the mean and standard deviation of Singapore GDP growth rate are higher than those of the US, indicating that the GDP of Singapore has been growing faster, but meanwhile it varies more with time and has higher volatility than the GDP of the US."
   ]
  },
  {
   "cell_type": "code",
   "execution_count": null,
   "id": "e960e2b9-1a12-4834-9c6e-96ac791eb783",
   "metadata": {
    "editable": true,
    "execution": {
     "iopub.execute_input": "2025-09-30T02:48:03.444500Z",
     "iopub.status.busy": "2025-09-30T02:48:03.444214Z",
     "iopub.status.idle": "2025-09-30T02:48:03.723047Z",
     "shell.execute_reply": "2025-09-30T02:48:03.722215Z"
    },
    "slideshow": {
     "slide_type": ""
    },
    "tags": [
     "remove_input"
    ]
   },
   "outputs": [],
   "source": [
    "# visualize the gdp growth rate\n",
    "fig_count = 1\n",
    "df = years[:]\n",
    "\n",
    "x = df['Year']\n",
    "y = df['SGP_GDP_Growth_Rate_Percentage']\n",
    "z = df['US_GDP_Growth_Rate_Percentage']\n",
    "\n",
    "\n",
    "# set the style to a dark theme\n",
    "plt.style.use(\"dark_background\")\n",
    "\n",
    "# match website background\n",
    "plt.rcParams[\"figure.facecolor\"] = \"#181818\"\n",
    "plt.rcParams[\"axes.facecolor\"] = \"#181818\"\n",
    "plt.rcParams[\"axes.edgecolor\"] = \"#181818\"\n",
    "\n",
    "fig, ax = plt.subplots(figsize=(8, 6))\n",
    "\n",
    "\n",
    "plt.scatter(x, y, label='Singapore')\n",
    "plt.plot(x, y)\n",
    "\n",
    "plt.scatter(x, z, label='United States')\n",
    "plt.plot(x, z)\n",
    "\n",
    "# add watermark\n",
    "add_watermark(ax, 1, 1)\n",
    "\n",
    "# set decimal points for x axis\n",
    "ax.xaxis.set_major_formatter(FormatStrFormatter('%.0f'))\n",
    "\n",
    "plt.xticks(rotation=0, fontsize=10)\n",
    "plt.yticks(fontsize=10)\n",
    "plt.ylabel('%', fontsize=11)\n",
    "plt.xlabel('Year', fontsize=11)\n",
    "#plt.xlim([50, 110])\n",
    "# set title\n",
    "plt.suptitle(\n",
    "    f\"Figure {fig_count}. 1961-2023 GDP Growth Rate\", y=0.0001, fontsize=10\n",
    ")\n",
    "fig_count += 1\n",
    "plt.legend()\n",
    "plt.show()"
   ]
  },
  {
   "cell_type": "code",
   "execution_count": null,
   "id": "56c62c00-4056-46de-bc31-356f5b2973b9",
   "metadata": {
    "editable": true,
    "execution": {
     "iopub.execute_input": "2025-09-30T02:48:03.726382Z",
     "iopub.status.busy": "2025-09-30T02:48:03.725936Z",
     "iopub.status.idle": "2025-09-30T02:48:03.856432Z",
     "shell.execute_reply": "2025-09-30T02:48:03.855651Z"
    },
    "slideshow": {
     "slide_type": ""
    },
    "tags": [
     "remove_input"
    ]
   },
   "outputs": [],
   "source": [
    "# visualiza the mean and standard deviations of gdp growth rate\n",
    "SNP_gdp_growth_mean = df['SGP_GDP_Growth_Rate_Percentage'].mean()\n",
    "SNP_gdp_growth_std = df['SGP_GDP_Growth_Rate_Percentage'].std()\n",
    "US_gdp_growth_mean = df['US_GDP_Growth_Rate_Percentage'].mean()\n",
    "US_gdp_growth_std = df['US_GDP_Growth_Rate_Percentage'].std()\n",
    "\n",
    "mean = np.array([SNP_gdp_growth_mean, US_gdp_growth_mean])\n",
    "std = np.array([SNP_gdp_growth_std, US_gdp_growth_std])\n",
    "labels = np.array(['Singapore', 'US'])\n",
    "\n",
    "# set the style to a dark theme\n",
    "plt.style.use(\"dark_background\")\n",
    "\n",
    "# match website background\n",
    "plt.rcParams[\"figure.facecolor\"] = \"#181818\"\n",
    "plt.rcParams[\"axes.facecolor\"] = \"#181818\"\n",
    "plt.rcParams[\"axes.edgecolor\"] = \"#181818\"\n",
    "\n",
    "fig, ax = plt.subplots(figsize=(8, 6))\n",
    "\n",
    "plt.bar(labels, mean, width=0.3)\n",
    "plt.errorbar(labels, mean, yerr=std, fmt='x', color='r')\n",
    "\n",
    "# add watermark\n",
    "add_watermark(ax, 1, 1)\n",
    "\n",
    "plt.xticks(rotation=0, fontsize=10)\n",
    "plt.yticks(fontsize=10)\n",
    "plt.ylabel('Mean of GDP Growth Rate %', fontsize=11)\n",
    "plt.xlabel('Country', fontsize=11)\n",
    "plt.xlim([-1,2])\n",
    "# set title\n",
    "plt.suptitle(\n",
    "    f\"Figure {fig_count}. Mean and Standard Deviation of 1961-2023 GDP Growth Rate: Singapore vs. US\", y=0.0001, fontsize=10\n",
    ")\n",
    "fig_count += 1\n",
    "#plt.legend()\n",
    "plt.show()\n",
    "\n"
   ]
  },
  {
   "cell_type": "markdown",
   "id": "d37486b0-da1d-42da-a29b-2db29c12ae0a",
   "metadata": {
    "editable": true,
    "slideshow": {
     "slide_type": ""
    },
    "tags": []
   },
   "source": [
    "### Inflation rate ###\n",
    "\n",
    "In Figure 3, the inflation rates of Singapore and the US from 1961 to 2023 also show a very similar pattern, especially after 1980, which confirms that the economic development of both countries are highly correlated. As for the mean and standard deviation (Figure 4), Singapore's inflation rate is lower than the US on average, but more volatile, especially during 1970-1990. \n",
    "\n",
    "Based on [Phillip's curve](), inflation rate should accelerate when the unemployment rate is low. The inflation rate and unemployment rate of both countries confirms this theory.\n"
   ]
  },
  {
   "cell_type": "code",
   "execution_count": null,
   "id": "5fdc490f-228b-4044-874e-f8d014e027bf",
   "metadata": {
    "editable": true,
    "execution": {
     "iopub.execute_input": "2025-09-30T02:48:03.859629Z",
     "iopub.status.busy": "2025-09-30T02:48:03.859309Z",
     "iopub.status.idle": "2025-09-30T02:48:04.065163Z",
     "shell.execute_reply": "2025-09-30T02:48:04.064463Z"
    },
    "slideshow": {
     "slide_type": ""
    },
    "tags": [
     "remove_input"
    ]
   },
   "outputs": [],
   "source": [
    "# visualize the inflation rate\n",
    "\n",
    "x = df['Year']\n",
    "y = df['SGP_Inflation_Rate_Percentage']\n",
    "z = df['US_Inflation_Rate_Percentage']\n",
    "\n",
    "\n",
    "# set the style to a dark theme\n",
    "plt.style.use(\"dark_background\")\n",
    "\n",
    "# match website background\n",
    "plt.rcParams[\"figure.facecolor\"] = \"#181818\"\n",
    "plt.rcParams[\"axes.facecolor\"] = \"#181818\"\n",
    "plt.rcParams[\"axes.edgecolor\"] = \"#181818\"\n",
    "\n",
    "fig, ax = plt.subplots(figsize=(8, 6))\n",
    "\n",
    "\n",
    "plt.scatter(x, y, label='Singapore')\n",
    "plt.plot(x, y)\n",
    "\n",
    "plt.scatter(x, z, label='United States')\n",
    "plt.plot(x, z)\n",
    "\n",
    "# add watermark\n",
    "add_watermark(ax, 1, 1)\n",
    "\n",
    "# set decimal points for x axis\n",
    "ax.xaxis.set_major_formatter(FormatStrFormatter('%.0f'))\n",
    "\n",
    "plt.xticks(rotation=0, fontsize=10)\n",
    "plt.yticks(fontsize=10)\n",
    "plt.ylabel('%', fontsize=11)\n",
    "plt.xlabel('Year', fontsize=11)\n",
    "#plt.xlim([50, 110])\n",
    "# set title\n",
    "plt.suptitle(\n",
    "    f\"Figure {fig_count}. 1991-2023 Inflation Rate\", y=0.0001, fontsize=10\n",
    ")\n",
    "fig_count += 1\n",
    "plt.legend()\n",
    "plt.show()"
   ]
  },
  {
   "cell_type": "code",
   "execution_count": null,
   "id": "e7fb9e5e-1f5d-4827-9344-e43ccb8fd482",
   "metadata": {
    "editable": true,
    "execution": {
     "iopub.execute_input": "2025-09-30T02:48:04.067917Z",
     "iopub.status.busy": "2025-09-30T02:48:04.067683Z",
     "iopub.status.idle": "2025-09-30T02:48:04.206971Z",
     "shell.execute_reply": "2025-09-30T02:48:04.206290Z"
    },
    "slideshow": {
     "slide_type": ""
    },
    "tags": [
     "remove_input"
    ]
   },
   "outputs": [],
   "source": [
    "# visualiza the mean and standard deviations of gdp growth rate\n",
    "SNP_inflation_mean = df['SGP_Inflation_Rate_Percentage'].mean()\n",
    "SNP_inflation_std = df['SGP_Inflation_Rate_Percentage'].std()\n",
    "US_inflation_mean = df['US_Inflation_Rate_Percentage'].mean()\n",
    "US_inflation_std = df['US_Inflation_Rate_Percentage'].std()\n",
    "\n",
    "mean = np.array([SNP_inflation_mean, US_inflation_mean])\n",
    "std = np.array([SNP_inflation_std, US_inflation_std])\n",
    "labels = np.array(['Singapore', 'US'])\n",
    "\n",
    "# set the style to a dark theme\n",
    "plt.style.use(\"dark_background\")\n",
    "\n",
    "# match website background\n",
    "plt.rcParams[\"figure.facecolor\"] = \"#181818\"\n",
    "plt.rcParams[\"axes.facecolor\"] = \"#181818\"\n",
    "plt.rcParams[\"axes.edgecolor\"] = \"#181818\"\n",
    "\n",
    "fig, ax = plt.subplots(figsize=(8, 6))\n",
    "\n",
    "plt.bar(labels, mean, width=0.3)\n",
    "plt.errorbar(labels, mean, yerr=std, fmt='x', color='r')\n",
    "\n",
    "# add watermark\n",
    "add_watermark(ax, 1, 1)\n",
    "\n",
    "\n",
    "plt.xticks(rotation=0, fontsize=10)\n",
    "plt.yticks(fontsize=10)\n",
    "plt.ylabel('Mean of Inflation Rate %', fontsize=11)\n",
    "plt.xlabel('Country', fontsize=11)\n",
    "plt.xlim([-1,2])\n",
    "# set title\n",
    "plt.suptitle(\n",
    "    f\"Figure {fig_count}. Mean and Standard Deviation of 1961-2023 Inflation Rate: Singapore vs. US\", y=0.0001, fontsize=10\n",
    ")\n",
    "fig_count += 1\n",
    "#plt.legend()\n",
    "plt.show()\n",
    "\n"
   ]
  },
  {
   "cell_type": "markdown",
   "id": "9b7bc624-a475-4dca-9d00-572cfc066688",
   "metadata": {
    "editable": true,
    "slideshow": {
     "slide_type": ""
    },
    "tags": []
   },
   "source": [
    "### Unemployment rate ###\n",
    "\n",
    "In Figure 5, it shows that the unemployment rate of both countries still share the same pattern during such periods as 2000-2009 and 2017-2023, but during other periods, the unemployment rate of the US is higher and less stable than that of Singapore. The mean and standard deviation in Figure 6 confirmed the above analysis. "
   ]
  },
  {
   "cell_type": "code",
   "execution_count": null,
   "id": "db1a1496-6827-43e6-bcb2-eb63ec21488f",
   "metadata": {
    "editable": true,
    "execution": {
     "iopub.execute_input": "2025-09-30T02:48:04.210051Z",
     "iopub.status.busy": "2025-09-30T02:48:04.209768Z",
     "iopub.status.idle": "2025-09-30T02:48:04.452991Z",
     "shell.execute_reply": "2025-09-30T02:48:04.452212Z"
    },
    "slideshow": {
     "slide_type": ""
    },
    "tags": [
     "remove_input"
    ]
   },
   "outputs": [],
   "source": [
    "# visualize the unemployment rate\n",
    "df1 = years[30:]\n",
    "x = df1['Year']\n",
    "y = df1['SGP_Unemployment_Rate_Percentage']\n",
    "z = df1['US_Unemployment_Rate_Percentage']\n",
    "\n",
    "\n",
    "# set the style to a dark theme\n",
    "plt.style.use(\"dark_background\")\n",
    "\n",
    "# match website background\n",
    "plt.rcParams[\"figure.facecolor\"] = \"#181818\"\n",
    "plt.rcParams[\"axes.facecolor\"] = \"#181818\"\n",
    "plt.rcParams[\"axes.edgecolor\"] = \"#181818\"\n",
    "\n",
    "fig, ax = plt.subplots(figsize=(8, 6))\n",
    "\n",
    "\n",
    "plt.scatter(x, y, label='Singapore')\n",
    "plt.plot(x, y)\n",
    "\n",
    "plt.scatter(x, z, label='United States')\n",
    "plt.plot(x, z)\n",
    "\n",
    "# add watermark\n",
    "add_watermark(ax, 1, 1)\n",
    "\n",
    "# set decimal points for x axis\n",
    "ax.xaxis.set_major_formatter(FormatStrFormatter('%.0f'))\n",
    "\n",
    "plt.xticks(rotation=0, fontsize=10)\n",
    "plt.yticks(fontsize=10)\n",
    "plt.ylabel('%', fontsize=11)\n",
    "plt.xlabel('Year', fontsize=11)\n",
    "#plt.xlim([50, 110])\n",
    "# set title\n",
    "plt.suptitle(\n",
    "    f\"Figure {fig_count}. 1991-2023 Unemployment Rate\", y=0.0001, fontsize=10\n",
    ")\n",
    "fig_count += 1\n",
    "plt.legend()\n",
    "plt.show()"
   ]
  },
  {
   "cell_type": "code",
   "execution_count": null,
   "id": "16515012-37e4-4961-b048-f0cb266f7e6f",
   "metadata": {
    "editable": true,
    "execution": {
     "iopub.execute_input": "2025-09-30T02:48:04.456851Z",
     "iopub.status.busy": "2025-09-30T02:48:04.456516Z",
     "iopub.status.idle": "2025-09-30T02:48:04.610442Z",
     "shell.execute_reply": "2025-09-30T02:48:04.609560Z"
    },
    "slideshow": {
     "slide_type": ""
    },
    "tags": [
     "remove_input"
    ]
   },
   "outputs": [],
   "source": [
    "# visualiza the mean and standard deviations of gdp growth rate\n",
    "SNP_unemployment_mean = df['SGP_Unemployment_Rate_Percentage'].mean()\n",
    "SNP_unemployment_std = df['SGP_Unemployment_Rate_Percentage'].std()\n",
    "US_unemployment_mean = df['US_Unemployment_Rate_Percentage'].mean()\n",
    "US_unemployment_std = df['US_Unemployment_Rate_Percentage'].std()\n",
    "\n",
    "mean = np.array([SNP_unemployment_mean, US_unemployment_mean])\n",
    "std = np.array([SNP_unemployment_std, US_unemployment_std])\n",
    "labels = np.array(['Singapore', 'US'])\n",
    "\n",
    "# set the style to a dark theme\n",
    "plt.style.use(\"dark_background\")\n",
    "\n",
    "# match website background\n",
    "plt.rcParams[\"figure.facecolor\"] = \"#181818\"\n",
    "plt.rcParams[\"axes.facecolor\"] = \"#181818\"\n",
    "plt.rcParams[\"axes.edgecolor\"] = \"#181818\"\n",
    "\n",
    "fig, ax = plt.subplots(figsize=(8, 6))\n",
    "\n",
    "plt.bar(labels, mean, width=0.3)\n",
    "plt.errorbar(labels, mean, yerr=std, fmt='x', color='r')\n",
    "\n",
    "# add watermark\n",
    "add_watermark(ax, 1, 1)\n",
    "\n",
    "plt.xticks(rotation=0, fontsize=10)\n",
    "plt.yticks(fontsize=10)\n",
    "plt.ylabel('Mean of Unemployment Rate %', fontsize=11)\n",
    "plt.xlabel('Country', fontsize=11)\n",
    "plt.xlim([-1,2])\n",
    "# set title\n",
    "plt.suptitle(\n",
    "    f\"Figure {fig_count}. Mean and Standard Deviation of 1991-2023 Unemployment Rate: Singapore vs. US\", y=0.0001, fontsize=10\n",
    ")\n",
    "fig_count += 1\n",
    "#plt.legend()\n",
    "plt.show()\n",
    "\n"
   ]
  },
  {
   "cell_type": "markdown",
   "id": "fbdee224-13bc-4022-bfe8-8544a30de98c",
   "metadata": {
    "editable": true,
    "slideshow": {
     "slide_type": ""
    },
    "tags": []
   },
   "source": [
    "### Currency Volatility ###\n",
    "\n",
    "Currency volatility should be considered if the capital is invested into Singapore as Singapore dollars.\n",
    "\n",
    "As shown in Figure 8, the average volatility of Singapore dollars is lower than US dollars (4.13% vs. 7.72%), however the standard deviations of both currencies are 1.80% and 2.30%, respectively. This indicates that the volatility of Singapore dollars is lower but the fluctuation is higher on average than US dollars."
   ]
  },
  {
   "cell_type": "code",
   "execution_count": null,
   "id": "e866c727-0593-4f21-ac0a-c83c70987bc5",
   "metadata": {
    "editable": true,
    "execution": {
     "iopub.execute_input": "2025-09-30T02:48:04.613415Z",
     "iopub.status.busy": "2025-09-30T02:48:04.613161Z",
     "iopub.status.idle": "2025-09-30T02:48:06.621651Z",
     "shell.execute_reply": "2025-09-30T02:48:06.620875Z"
    },
    "slideshow": {
     "slide_type": ""
    },
    "tags": [
     "remove_input"
    ]
   },
   "outputs": [],
   "source": [
    "# visualize the currency volatility\n",
    "df2 = volatilities[:]\n",
    "x = df2['SGP_Date'] \n",
    "y = df2['SGP_Dollar_Volatility'] * 100\n",
    "j = (df2['US_Date']).astype(str)\n",
    "k = df2['USD_Volatility'] * 100\n",
    "\n",
    "# set the style to a dark theme\n",
    "plt.style.use(\"dark_background\")\n",
    "\n",
    "# match website background\n",
    "plt.rcParams[\"figure.facecolor\"] = \"#181818\"\n",
    "plt.rcParams[\"axes.facecolor\"] = \"#181818\"\n",
    "plt.rcParams[\"axes.edgecolor\"] = \"#181818\"\n",
    "\n",
    "fig, (ax1, ax2) = plt.subplots(2, 1, figsize=(8, 6))\n",
    "\n",
    "\n",
    "#plt.scatter(x, y, marker='-', label='Singapore Dollar')\n",
    "ax1.plot(x, y, label='Singapore Dollar')\n",
    "ax2.plot(j, k, label='US Dollar', color='r')\n",
    "\n",
    "\n",
    "# set decimal points for x axis\n",
    "ax1.xaxis.set_major_locator(plt.MaxNLocator(7))\n",
    "ax2.xaxis.set_major_locator(plt.MaxNLocator(7))\n",
    "\n",
    "# set axis labels\n",
    "ax1.set_ylabel(\"Volatility %\")\n",
    "ax2.set_ylabel(\"Volatility %\")\n",
    "\n",
    "# set legend\n",
    "ax1.legend()\n",
    "ax2.legend()\n",
    "\n",
    "# add watermark\n",
    "add_watermark(ax2, 1, 1)\n",
    "\n",
    "\n",
    "plt.xticks(rotation=0, fontsize=10)\n",
    "plt.yticks(fontsize=10)\n",
    "plt.xlabel('Date', fontsize=11)\n",
    "#plt.xlim([0, 13700])\n",
    "# set title\n",
    "plt.suptitle(\n",
    "    f\"Figure {fig_count}. 1990-2024 Currency Volatility\", y=-0.01, fontsize=10\n",
    ")\n",
    "fig_count += 1\n",
    "plt.legend()\n",
    "plt.show()"
   ]
  },
  {
   "cell_type": "code",
   "execution_count": null,
   "id": "1ad4d6cf-61dd-499f-94ed-faeb60bffc72",
   "metadata": {
    "editable": true,
    "execution": {
     "iopub.execute_input": "2025-09-30T02:48:06.624454Z",
     "iopub.status.busy": "2025-09-30T02:48:06.624190Z",
     "iopub.status.idle": "2025-09-30T02:48:06.750205Z",
     "shell.execute_reply": "2025-09-30T02:48:06.749453Z"
    },
    "slideshow": {
     "slide_type": ""
    },
    "tags": [
     "remove_input"
    ]
   },
   "outputs": [],
   "source": [
    "# visualiza the mean and standard deviations of gdp growth rate\n",
    "SNPD_Volatility_mean = df2['SGP_Dollar_Volatility'].mean() * 100\n",
    "SNPD_Volatility_std = df2['SGP_Dollar_Volatility'].std() * 100\n",
    "USD_Volatility_mean = df2['USD_Volatility'].mean() * 100\n",
    "USD_Volatility_std  = df2['USD_Volatility'].std() * 100\n",
    "\n",
    "mean = np.array([SNPD_Volatility_mean, USD_Volatility_mean])\n",
    "std = np.array([SNPD_Volatility_std, USD_Volatility_std])\n",
    "labels = np.array(['Singapore', 'US'])\n",
    "\n",
    "# set the style to a dark theme\n",
    "plt.style.use(\"dark_background\")\n",
    "\n",
    "# match website background\n",
    "plt.rcParams[\"figure.facecolor\"] = \"#181818\"\n",
    "plt.rcParams[\"axes.facecolor\"] = \"#181818\"\n",
    "plt.rcParams[\"axes.edgecolor\"] = \"#181818\"\n",
    "\n",
    "fig, ax = plt.subplots(figsize=(8, 6))\n",
    "\n",
    "plt.bar(labels, mean, width=0.3)\n",
    "plt.errorbar(labels, mean, yerr=std, fmt='x', color='r')\n",
    "\n",
    "# add watermark\n",
    "add_watermark(ax, 1, 1)\n",
    "\n",
    "\n",
    "plt.xticks(rotation=0, fontsize=10)\n",
    "plt.yticks(fontsize=10)\n",
    "plt.ylabel('Average Currency Volatility %', fontsize=11)\n",
    "plt.xlabel('Country', fontsize=11)\n",
    "plt.xlim([-1,2])\n",
    "# set title\n",
    "plt.suptitle(\n",
    "    f\"Figure {fig_count}. Mean and Standard Deviation of 1990-2024 Currency Volatility: Singapore vs. US\", y=0.0001, fontsize=10\n",
    ")\n",
    "fig_count += 1\n",
    "#plt.legend()\n",
    "plt.show()\n"
   ]
  },
  {
   "cell_type": "markdown",
   "id": "9a76468a-84fd-466f-85be-997b359dcf41",
   "metadata": {
    "editable": true,
    "slideshow": {
     "slide_type": ""
    },
    "tags": []
   },
   "source": [
    "In conclusion, the economic stability of Singapore shows very strong correlation to the US economy. As the latter is one of the largest and most powerful economies in the world. It is often referred to as a dominant force in the global market, due to its size, innovation, and resourcefulness. The US economy ranks first in terms of nominal GDP and second in purchasing power parity (PPP). Therefore, Singapore can be regarded as an alternative investment option to the US."
   ]
  },
  {
   "cell_type": "markdown",
   "id": "d39085bc-9d0a-4729-9383-2dba7e7ff634",
   "metadata": {
    "editable": true,
    "slideshow": {
     "slide_type": ""
    },
    "tags": []
   },
   "source": [
    "## Political Stability of Singapore ##\n",
    "\n",
    "Besides the economic stability, political stability is another important factor to consider in our investment decisions, because it directly affects the economic environment and risk foreign investors would face in that country. \n",
    "\n",
    "The [Worldwide Governance Indicators (WGI)](https://www.worldbank.org/en/publication/worldwide-governance-indicators) are designed to help researchers and analysts assess broad patterns in perceptions of governance across countries and over time. The WGI feature six aggregate governance indicators for over 200 countries and territories over the period 1996–2022:\n",
    "\n",
    "+ Voice and Accountability\n",
    "+ Political Stability and Absence of Violence/Terrorism\n",
    "+ Government Effectiveness\n",
    "+ Regulatory Quality\n",
    "+ Rule of Law\n",
    "+ Control of Corruption\n",
    "\n",
    "Figure 9 shows the percentile ranks of each indicator of Singapore and the US. For both countries, most of their indicators have a higher than 50% rank worldwide. Between these two countries, except Voice and Accountability indicator, all of Singapore's other indicators have higher ranks (close to 100%) than the US's. Therefore, overall Singapore is politically stable."
   ]
  },
  {
   "cell_type": "code",
   "execution_count": null,
   "id": "3e74e1a1-8487-476e-b789-9064f20c20e4",
   "metadata": {
    "editable": true,
    "execution": {
     "iopub.execute_input": "2025-09-30T02:48:06.753205Z",
     "iopub.status.busy": "2025-09-30T02:48:06.752970Z",
     "iopub.status.idle": "2025-09-30T02:48:06.960372Z",
     "shell.execute_reply": "2025-09-30T02:48:06.959600Z"
    },
    "slideshow": {
     "slide_type": ""
    },
    "tags": [
     "remove_input"
    ]
   },
   "outputs": [],
   "source": [
    "# visualize the political stability indicator\n",
    "df3 = political_stability[:2]\n",
    "\n",
    "# set the style to a dark theme\n",
    "plt.style.use(\"dark_background\")\n",
    "\n",
    "# match website background\n",
    "plt.rcParams[\"figure.facecolor\"] = \"#181818\"\n",
    "plt.rcParams[\"axes.facecolor\"] = \"#181818\"\n",
    "plt.rcParams[\"axes.edgecolor\"] = \"#181818\"\n",
    "\n",
    "fig, ax = plt.subplots(figsize=(8, 6))\n",
    "\n",
    "ind = np.arange(len(df3['Country']))  # the x locations for the groups\n",
    "width = 0.4  # the width of the bars\n",
    "\n",
    "rects1 = ax.bar(ind-width*0.55,  df3['Pol_Sta_Percentile_Rank'], width/5, color=\"grey\", label='Political Stability')\n",
    "rects2 = ax.bar(ind-width/3,  df3['Accountability_Percentile_Rank'], width/5, color=\"#dfbde3\", label='Voice & Accountability')\n",
    "rects3 = ax.bar(ind-width*0.115, df3['Gov_Effe_Percentile_Rank'], width/5, color=\"#37e775\", label='Government Effectiveness')\n",
    "rects4 = ax.bar(ind + width*0.115, df3['Reg_Qua_Percentile_Rank'], width/5, color=\"#5eb1f6\", label='Regulatory Quality')\n",
    "rects5 = ax.bar(ind + width/3, df3['Law_Percentile_Rank'], width/5, color=\"yellow\", label='Rule of Law')\n",
    "rects6 = ax.bar(ind + width*0.55, df3['Corrpt_Ctrl_Percentile_Rank'], width/5, color=\"purple\", label='Control of Corruption')\n",
    "\n",
    "# add label, title, legend\n",
    "ax.set_xticks(ind, df3['Country'])\n",
    "ax.legend()\n",
    "\n",
    "\n",
    "#ax.bar_label(bars, fontsize=10)\n",
    "\n",
    "# add watermark\n",
    "add_watermark(ax, 1, 20)\n",
    "\n",
    "plt.xticks(rotation=0, fontsize=10)\n",
    "plt.yticks(fontsize=10)\n",
    "plt.ylabel('Percentile Rank %', fontsize=11)\n",
    "plt.xlabel('Country', fontsize=11)\n",
    "plt.xlim([-1,2])\n",
    "plt.ylim([0, 150])\n",
    "# set title\n",
    "plt.suptitle(\n",
    "    f\"Figure {fig_count}. Percentile Rank of 2022 Worldwide Governance Indicators of Singapore and the US\", y=0.0001, fontsize=10\n",
    ")\n",
    "fig_count += 1\n",
    "plt.show()"
   ]
  },
  {
   "attachments": {},
   "cell_type": "markdown",
   "id": "ae699364-4f55-4c57-9c7e-b45894dab5d9",
   "metadata": {
    "editable": true,
    "slideshow": {
     "slide_type": ""
    },
    "tags": []
   },
   "source": [
    "## How to remotely open a bank account in Singapore ##\n",
    "\n",
    "There are four major banks in Singapore that are open to foreign investors, who don't have a long-term visa from Singapore:\n",
    "\n",
    "+ [Oversea-Chinese Banking Corporation (OCBC)](https://www.ocbc.com/personal-banking/articles/how-to-open-a-bank-account-in-singapore-for-foreigners.page#):\n",
    "\n",
    "  + Headquarter is located in Singapore\n",
    "  + Initial deposit: 0\n",
    "  + Required documents: ID, Passport, Proof of Address Address, Know Your Customer (KYC) form\n",
    "  + Minimum balance: 1000 SGD （1 SGD = 0.75 USD, Nov. 2024）\n",
    "  + Note: **Only** open to people that hold e-passports from Hong Kong, Malaysia, Indonesia or mainland China \n",
    "\n",
    "+ [The Hongkong and Shanghai Banking Corporation (HSBC)](https://www.hsbc.com.sg/international/open-an-account/)\n",
    "  \n",
    "  + Headquarter is located in UK\n",
    "  + Initial deposit: 0\n",
    "  + Required documents: ID, Passport, Proof of Address, Know Your Customer (KYC) form, 200,000 SGD foreign bank statement\n",
    "  + Minimum balance: 200,000 SGD\n",
    "    \n",
    "+ [Standard Chartered](https://www.sc.com/sg/international-banking/#sc-lb-module-embedded-form):\n",
    "  \n",
    "  + Headquarter is located in UK\n",
    "  + Initial deposit: 50,000 SGD\n",
    "  + Required documents: ID, Passport, Proof of Address, 200,000 SGD foreign bank statement, lawyer fee (150 SGD)\n",
    "  + Minimum balance: 0\n",
    "    \n",
    "+ [Citibank](https://www.citibank.com.sg/en)\n",
    "  \n",
    "  + Headquarter is located in US\n",
    "  + Initial deposit: 0\n",
    "  + Required documents: ID, Passport, Proof of Address Address, lawyer fee (150 SGD)\n",
    "  + Minimum balance: 200,000 SGD\n",
    "  + Note: If you have an account in America, it’s possible to open a Singapore account through the American branch\n"
   ]
  },
  {
   "cell_type": "markdown",
   "id": "5ffd6698-13e9-4105-99cf-66dad92ec097",
   "metadata": {
    "editable": true,
    "slideshow": {
     "slide_type": ""
    },
    "tags": []
   },
   "source": [
    "## Conclusion ##\n",
    "\n",
    "Singapore is economically and politically stable for foreign investors. However due to its popularity worldwide, the capital requirement can be too high for entry level investors."
   ]
  },
  {
   "cell_type": "markdown",
   "id": "1961855b-32a8-4e20-bba2-b8e02a295acf",
   "metadata": {
    "editable": true,
    "slideshow": {
     "slide_type": ""
    },
    "tags": []
   },
   "source": [
    "## References ##\n",
    "\n",
    "+ https://www.macrotrends.net/global-metrics/countries/SGP/singapore/gdp-growth-rate\n",
    "+ https://www.macrotrends.net/global-metrics/countries/sgp/singapore/inflation-rate-cpi\n",
    "+ https://www.macrotrends.net/global-metrics/countries/sgp/singapore/unemployment-rate\n",
    "+ https://www.macrotrends.net/global-metrics/countries/USA/united-states/gdp-growth-rate\n",
    "+ https://www.macrotrends.net/global-metrics/countries/USA/united-states/inflation-rate-cpi\n",
    "+ https://www.macrotrends.net/global-metrics/countries/USA/united-states/unemployment-rate\n",
    "+ Daniel Kaufmann and Aart Kraay (2023). Worldwide Governance Indicators, 2023 Update (www.govindicators.org), Accessed on 10/19/2023.\n",
    "+ https://www.ocbc.com/personal-banking/articles/how-to-open-a-bank-account-in-singapore-for-foreigners.page#\n",
    "\n"
   ]
  },
  {
   "cell_type": "code",
   "execution_count": null,
   "id": "5ab5f194-e80f-4602-b023-703126fec84d",
   "metadata": {
    "editable": true,
    "slideshow": {
     "slide_type": ""
    },
    "tags": []
   },
   "outputs": [],
   "source": []
  }
 ],
 "metadata": {
  "kernelspec": {
   "display_name": "Python 3 (ipykernel)",
   "language": "python",
   "name": "python3"
  },
  "language_info": {
   "codemirror_mode": {
    "name": "ipython",
    "version": 3
   },
   "file_extension": ".py",
   "mimetype": "text/x-python",
   "name": "python",
   "nbconvert_exporter": "python",
   "pygments_lexer": "ipython3",
   "version": "3.11.8"
  }
 },
 "nbformat": 4,
 "nbformat_minor": 5
}
