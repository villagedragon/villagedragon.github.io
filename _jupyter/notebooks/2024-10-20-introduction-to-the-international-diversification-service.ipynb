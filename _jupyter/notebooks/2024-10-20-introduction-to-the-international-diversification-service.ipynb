{
 "cells": [
  {
   "cell_type": "raw",
   "id": "eb4fae2c-81c3-4a02-856b-8c4167141939",
   "metadata": {
    "editable": true,
    "raw_mimetype": "",
    "slideshow": {
     "slide_type": ""
    },
    "tags": []
   },
   "source": [
    "---\n",
    "layout: article\n",
    "title: Introduction to the International Diversification Service\n",
    "custom_css: article.css\n",
    "include_mathjax: true\n",
    "---"
   ]
  },
  {
   "cell_type": "markdown",
   "id": "5adb9e8b-8024-4180-8000-69310d620c17",
   "metadata": {
    "editable": true,
    "slideshow": {
     "slide_type": ""
    },
    "tags": []
   },
   "source": [
    "## What is international diversification ##\n",
    "\n",
    "International diversification refers to allocating assets into diverse global markets, i.e. multiple countries. \n",
    "\n",
    "## The goal of our international diversification service ##\n",
    "\n",
    "+ **Political risk reduction.** Build a safety net against political volatility in any one market, such as war and asset freezing,\n",
    "  \n",
    "+ **Economic risk reduction.** Hedge against domestic market volatility and currency inflation.\n",
    "\n",
    "+ **Growth potential enhancement.** Benefit from economic growth in different markets, which can lead to improved returns.\n",
    "\n",
    "## How does the service work ##\n",
    "\n",
    "Step one, select foreign countries to invest in.\n",
    "\n",
    "Step two, set up bank accounts in the selected countries.\n",
    "\n",
    "Step three, select ways of investments, such as fixed-income assets, stocks, real estate, currencies, etc.. \n",
    "\n",
    "## Potential risks with international diversification ##\n",
    "\n",
    "+ **Transaction fee.** Higher fees, such as stamp duties, levies, and complex tax for foreign investments, can be involved in the transactions.\n",
    "\n",
    "+ **Currency volatility.** Exchange rate fluctuations can cause loss. \n",
    "\n",
    "+ **Liquidity difficulty.** This is the risk of not being able to sell an investment at any time without risking substantial losses due to a political or economical crisis.\n",
    "\n",
    "+ **Political instability.** This includes government stability issues such as regimes changes, expropriation or nationalization (e.g. resource nationalization in Bolivia and Venezuela)\n",
    "\n",
    "## Conclusion ##\n",
    "\n",
    "When considering international diversification and selecting countries to invest in, we need to select options that can maximize the achievement of the goal and minimize the risk.\n"
   ]
  },
  {
   "cell_type": "markdown",
   "id": "57c67e8a-8e71-48c6-8a02-97b77defcd1f",
   "metadata": {
    "editable": true,
    "slideshow": {
     "slide_type": ""
    },
    "tags": []
   },
   "source": [
    "## References ##\n",
    "\n",
    "+ https://smartasset.com/investing/benefits-of-international-diversification\n",
    "\n",
    "+ https://www.morningstar.com/portfolios/does-case-investing-internationally-add-up\n",
    "\n",
    "+ https://www.globalmastersfund.com.au/articles/global-asset-management/\n",
    "\n",
    "+ https://www.fe.training/free-resources/portfolio-management/international-diversification/\n",
    "\n",
    "+ https://www.bcg.com/publications/2023/the-tide-has-changed-for-asset-managers\n",
    "\n",
    "+ https://www.investopedia.com/articles/basics/11/biggest-risks-international-investing.asp"
   ]
  }
 ],
 "metadata": {
  "kernelspec": {
   "display_name": "Python 3 (ipykernel)",
   "language": "python",
   "name": "python3"
  },
  "language_info": {
   "codemirror_mode": {
    "name": "ipython",
    "version": 3
   },
   "file_extension": ".py",
   "mimetype": "text/x-python",
   "name": "python",
   "nbconvert_exporter": "python",
   "pygments_lexer": "ipython3",
   "version": "3.11.8"
  }
 },
 "nbformat": 4,
 "nbformat_minor": 5
}
