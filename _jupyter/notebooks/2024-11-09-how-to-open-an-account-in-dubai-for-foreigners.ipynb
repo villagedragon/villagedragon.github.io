{
 "cells": [
  {
   "cell_type": "raw",
   "id": "01edb7ac-70d4-4fb3-99d7-fefc1b364ad8",
   "metadata": {},
   "source": [
    "---\n",
    "layout: article\n",
    "title: How to Open a Bank Account in Dubai for Foreigners\n",
    "custom_css: article.css\n",
    "include_mathjax: true\n",
    "---"
   ]
  },
  {
   "cell_type": "code",
   "execution_count": null,
   "id": "b9171f20-3cd4-4fe6-bdbf-57d5618cd845",
   "metadata": {
    "editable": true,
    "execution": {
     "iopub.execute_input": "2025-09-30T01:57:04.351510Z",
     "iopub.status.busy": "2025-09-30T01:57:04.350877Z",
     "iopub.status.idle": "2025-09-30T01:57:05.248309Z",
     "shell.execute_reply": "2025-09-30T01:57:05.247619Z"
    },
    "slideshow": {
     "slide_type": ""
    },
    "tags": [
     "remove_input"
    ]
   },
   "outputs": [],
   "source": [
    "# import necessary libs (available in jupyter/scipy-notebook docker image)\n",
    "import os\n",
    "import pandas as pd \n",
    "import numpy as np\n",
    "import matplotlib.pyplot as plt \n",
    "from matplotlib.ticker import FormatStrFormatter\n",
    "\n",
    "# define watermark \n",
    "def add_watermark(ax, x, y):\n",
    "    ax.text(ax.get_xlim()[0]+ x,\n",
    "            ax.get_ylim()[0]+ y,\n",
    "            \"ladydragoncapital\",\n",
    "            alpha=0.3, fontsize=16)\n",
    "\n",
    "\n",
    "# globals\n",
    "HOME_DIR = '/home/jovyan/_jupyter'\n",
    "DATA_DIR = os.path.join(HOME_DIR, 'data')\n",
    "\n",
    "# read in csv data\n",
    "economics = pd.read_csv(os.path.join(DATA_DIR, 'countries_economic_stability_features.csv'))\n",
    "political_stability = pd.read_csv(os.path.join(DATA_DIR, 'countries_political_stability.csv')).head()"
   ]
  },
  {
   "cell_type": "markdown",
   "id": "0c8c1c4f-b9f8-43ec-9f01-23fdae1eb2f1",
   "metadata": {},
   "source": [
    "## Introduction ##\n",
    "\n",
    "In this article, we will explore Dubai as an option for international diversification with a goal of political risk reduction, economic risk reduction, and growth potential enhancement. We will explore Dubai from the following angles:\n",
    "\n",
    "+ Is Dubai a city or a country?\n",
    "+ Dubai's economic stability\n",
    "+ Dubai's political stability\n",
    "+ How to open a bank account in Dubai as a foreigner?\n",
    "\n",
    "\n",
    "## Is Dubai a city or a country ##\n",
    "\n",
    "Dubai is an emirate within the United Arab Emirates (UAE), which is a country. In December 1971, the UAE became a federation of six emirates - Abu Dhabi, Dubai, Sharjah, Ajman, Umm Al-Quwain, and Fujairah, while the seventh emirate, Ras Al Khaimah, joined the federation in 1972. The capital city is Abu Dhabi, located in the largest and wealthiest of the seven emirates. City Dubai is the capital of Emirate Dubai, the most populous emirate of the UAE. \n",
    "\n",
    "The President of the UAE and ruler of Abu Dhabi is His Highness (HH) Sheikh Mohammed bin Zayed Al Nahyan. The Ruler of Dubai, HH Sheikh Mohammed bin Rashid Al Maktoum, is the Vice-President, Prime Minister, and Defence Minister.\n",
    "\n",
    "\n",
    "## Economic Stability ##\n",
    "\n",
    "The UAE is the Middle East's third largest economy, and one of the wealthiest countries in the region on a per capita basis. Its GDP in 2023 was estimated at US$509 billion.\n",
    "\n",
    "Exports of goods and services contribute to 93.9% (2022) of the total GDP (12.2% for the US), because the UAE has 6% of the world's oil reserves and the 7th largest proven natural gas reserves. Petroleum, gold, refined petroleum, broadcasting equipment, and diamonds are the top exports. Petroleum exports were US$94.7 billion in 2023. \n",
    "\n",
    "As in Dubai, in recent years their goverment has been diversifying the market, which has led the GDP contribution of oil production to drop from 50% to less than 1%. In 2018, wholesale and retail trade represented 26% of the total GDP; transport and logistics, 12%; banking, insurance activities and capital markets, 10%; manufacturing, 9%; real estate, 7%; construction, 6%; tourism, 5%. The diversification of the economy in Dubai should provide more stability.\n",
    "\n",
    "Now we'll look at the economic stability of UAE by comparing the following factors with the US:\n",
    "\n",
    "+ GDP growth rate\n",
    "+ Inflation rate\n",
    "+ Unemployment rate\n",
    "\n",
    "### GDP Growth ###\n",
    "\n",
    "From Figure 1 and 2, we can clearly see that, between 1971 and 2023 the GDP growth rate of the UAE is much more volatile than the US, although the average growth rate of UAE is higher than the US (6.88%±13.09% vs. 2.76%±2.06%, respectively). In the following short periods, it still had similar patterns with the GDP growth of the US: 1981-1986, 1991-1995, 2000-2004, 2007-2010, and 2017-2021. However, overall the GDP growth of the UAE fluctuated more and showed lower correlation to the trend of the GDP growth of the US."
   ]
  },
  {
   "cell_type": "code",
   "execution_count": null,
   "id": "9e74491a-fc4f-4318-96d5-8db74fa6a0c6",
   "metadata": {
    "editable": true,
    "execution": {
     "iopub.execute_input": "2025-09-30T01:57:05.251818Z",
     "iopub.status.busy": "2025-09-30T01:57:05.251277Z",
     "iopub.status.idle": "2025-09-30T01:57:05.499471Z",
     "shell.execute_reply": "2025-09-30T01:57:05.498701Z"
    },
    "slideshow": {
     "slide_type": ""
    },
    "tags": [
     "remove_input"
    ]
   },
   "outputs": [],
   "source": [
    "# visualize the gdp growth rate\n",
    "fig_count = 1\n",
    "df = economics[11:]\n",
    "\n",
    "x = df['Year']\n",
    "y = df['UAE_GDP_Growth_Rate_Percentage']\n",
    "z = df['US_GDP_Growth_Rate_Percentage']\n",
    "\n",
    "\n",
    "# set the style to a dark theme\n",
    "plt.style.use(\"dark_background\")\n",
    "\n",
    "# match website background\n",
    "plt.rcParams[\"figure.facecolor\"] = \"#181818\"\n",
    "plt.rcParams[\"axes.facecolor\"] = \"#181818\"\n",
    "plt.rcParams[\"axes.edgecolor\"] = \"#181818\"\n",
    "\n",
    "fig, ax = plt.subplots(figsize=(8, 6))\n",
    "\n",
    "\n",
    "plt.scatter(x, y, label='UAE')\n",
    "plt.plot(x, y)\n",
    "\n",
    "plt.scatter(x, z, label='US')\n",
    "plt.plot(x, z)\n",
    "\n",
    "# add watermark\n",
    "add_watermark(ax, 1, 1)\n",
    "\n",
    "# set decimal points for x axis\n",
    "ax.xaxis.set_major_formatter(FormatStrFormatter('%.0f'))\n",
    "\n",
    "plt.xticks(rotation=0, fontsize=10)\n",
    "plt.yticks(fontsize=10)\n",
    "plt.ylabel('%', fontsize=11)\n",
    "plt.xlabel('Year', fontsize=11)\n",
    "#plt.xlim([50, 110])\n",
    "# set title\n",
    "plt.suptitle(\n",
    "    f\"Figure {fig_count}. 1971-2023 GDP Growth Rate\", y=0.0001, fontsize=10\n",
    ")\n",
    "fig_count += 1\n",
    "plt.legend()\n",
    "plt.show()"
   ]
  },
  {
   "cell_type": "code",
   "execution_count": null,
   "id": "c754f8f3-b67e-4a65-b1cb-c8782a9a2eb9",
   "metadata": {
    "editable": true,
    "execution": {
     "iopub.execute_input": "2025-09-30T01:57:05.502456Z",
     "iopub.status.busy": "2025-09-30T01:57:05.502209Z",
     "iopub.status.idle": "2025-09-30T01:57:05.640244Z",
     "shell.execute_reply": "2025-09-30T01:57:05.639504Z"
    },
    "slideshow": {
     "slide_type": ""
    },
    "tags": [
     "remove_input"
    ]
   },
   "outputs": [],
   "source": [
    "# visualiza the mean and standard deviations of gdp growth rate\n",
    "UAE_gdp_growth_mean = df['UAE_GDP_Growth_Rate_Percentage'].mean()\n",
    "UAE_gdp_growth_std = df['UAE_GDP_Growth_Rate_Percentage'].std()\n",
    "US_gdp_growth_mean = df['US_GDP_Growth_Rate_Percentage'].mean()\n",
    "US_gdp_growth_std = df['US_GDP_Growth_Rate_Percentage'].std()\n",
    "\n",
    "mean = np.array([UAE_gdp_growth_mean, US_gdp_growth_mean])\n",
    "std = np.array([UAE_gdp_growth_std, US_gdp_growth_std])\n",
    "labels = np.array(['UAE', 'US'])\n",
    "\n",
    "# set the style to a dark theme\n",
    "plt.style.use(\"dark_background\")\n",
    "\n",
    "# match website background\n",
    "plt.rcParams[\"figure.facecolor\"] = \"#181818\"\n",
    "plt.rcParams[\"axes.facecolor\"] = \"#181818\"\n",
    "plt.rcParams[\"axes.edgecolor\"] = \"#181818\"\n",
    "\n",
    "fig, ax = plt.subplots(figsize=(8, 6))\n",
    "\n",
    "plt.bar(labels, mean, width=0.3)\n",
    "plt.errorbar(labels, mean, yerr=std, fmt='x', color='r')\n",
    "\n",
    "# add watermark\n",
    "add_watermark(ax, 1, 1)\n",
    "\n",
    "plt.xticks(rotation=0, fontsize=10)\n",
    "plt.yticks(fontsize=10)\n",
    "plt.ylabel('Mean of GDP Growth Rate %', fontsize=11)\n",
    "plt.xlabel('Country', fontsize=11)\n",
    "plt.xlim([-1,2])\n",
    "# set title\n",
    "plt.suptitle(\n",
    "    f\"Figure {fig_count}. Mean and Standard Deviation of 1961-2023 GDP Growth Rate: UAE vs. US\", y=0.0001, fontsize=10\n",
    ")\n",
    "fig_count += 1\n",
    "#plt.legend()\n",
    "plt.show()\n",
    "\n"
   ]
  },
  {
   "cell_type": "markdown",
   "id": "e5b51d98-2ff8-4e10-9ef1-67e476d3e964",
   "metadata": {},
   "source": [
    "### Inflation Rate ###\n",
    "\n",
    "Figure 3 and 4 show that, between 2008 and 2022, the inflation rate of the UAE is less table than that of the US, but has a higher average value: (2.08±3.38)% vs. (2.34±2.02)%, respectively. Both countries' inflation rates had similar trends from 2008 to 2009, and from 2016 to 2022, while had a opposite trend from 2014 to 2016, which might indicate that the two economic bodies are more correlated in recent years.\n"
   ]
  },
  {
   "cell_type": "code",
   "execution_count": null,
   "id": "813de1f5-d707-48c7-a9c0-faf95d41a072",
   "metadata": {
    "editable": true,
    "execution": {
     "iopub.execute_input": "2025-09-30T01:57:05.643422Z",
     "iopub.status.busy": "2025-09-30T01:57:05.643164Z",
     "iopub.status.idle": "2025-09-30T01:57:05.885469Z",
     "shell.execute_reply": "2025-09-30T01:57:05.884752Z"
    },
    "slideshow": {
     "slide_type": ""
    },
    "tags": [
     "remove_input"
    ]
   },
   "outputs": [],
   "source": [
    "# visualize the inflation rate\n",
    "df1 = economics[47:62]\n",
    "x = df1['Year']\n",
    "y = df1['UAE_Inflation_Rate_Percentage']\n",
    "z = df1['US_Inflation_Rate_Percentage']\n",
    "\n",
    "\n",
    "# set the style to a dark theme\n",
    "plt.style.use(\"dark_background\")\n",
    "\n",
    "# match website background\n",
    "plt.rcParams[\"figure.facecolor\"] = \"#181818\"\n",
    "plt.rcParams[\"axes.facecolor\"] = \"#181818\"\n",
    "plt.rcParams[\"axes.edgecolor\"] = \"#181818\"\n",
    "\n",
    "fig, ax = plt.subplots(figsize=(8, 6))\n",
    "\n",
    "\n",
    "plt.scatter(x, y, label='UAE')\n",
    "plt.plot(x, y)\n",
    "\n",
    "plt.scatter(x, z, label='US')\n",
    "plt.plot(x, z)\n",
    "\n",
    "# add watermark\n",
    "add_watermark(ax, 1, 1)\n",
    "\n",
    "# set decimal points for x axis\n",
    "ax.xaxis.set_major_formatter(FormatStrFormatter('%.0f'))\n",
    "\n",
    "plt.xticks(rotation=0, fontsize=10)\n",
    "plt.yticks(fontsize=10)\n",
    "plt.ylabel('%', fontsize=11)\n",
    "plt.xlabel('Year', fontsize=11)\n",
    "#plt.xlim([50, 110])\n",
    "# set title\n",
    "plt.suptitle(\n",
    "    f\"Figure {fig_count}. 1991-2023 Inflation Rate: UAE vs. US\", y=0.0001, fontsize=10\n",
    ")\n",
    "fig_count += 1\n",
    "plt.legend()\n",
    "plt.show()"
   ]
  },
  {
   "cell_type": "code",
   "execution_count": null,
   "id": "861afc54-89b4-4fba-b4ba-cfc6e698daee",
   "metadata": {
    "editable": true,
    "execution": {
     "iopub.execute_input": "2025-09-30T01:57:05.888461Z",
     "iopub.status.busy": "2025-09-30T01:57:05.888132Z",
     "iopub.status.idle": "2025-09-30T01:57:06.031322Z",
     "shell.execute_reply": "2025-09-30T01:57:06.030305Z"
    },
    "slideshow": {
     "slide_type": ""
    },
    "tags": [
     "remove_input"
    ]
   },
   "outputs": [],
   "source": [
    "# visualiza the mean and standard deviations of inflation rate\n",
    "UAE_inflation_mean = df1['UAE_Inflation_Rate_Percentage'].mean()\n",
    "UAE_inflation_std = df1['UAE_Inflation_Rate_Percentage'].std()\n",
    "US_inflation_mean = df1['US_Inflation_Rate_Percentage'].mean()\n",
    "US_inflation_std = df1['US_Inflation_Rate_Percentage'].std()\n",
    "\n",
    "mean = np.array([UAE_inflation_mean, US_inflation_mean])\n",
    "std = np.array([UAE_inflation_std, US_inflation_std])\n",
    "labels = np.array(['UAE', 'US'])\n",
    "\n",
    "# set the style to a dark theme\n",
    "plt.style.use(\"dark_background\")\n",
    "\n",
    "# match website background\n",
    "plt.rcParams[\"figure.facecolor\"] = \"#181818\"\n",
    "plt.rcParams[\"axes.facecolor\"] = \"#181818\"\n",
    "plt.rcParams[\"axes.edgecolor\"] = \"#181818\"\n",
    "\n",
    "fig, ax = plt.subplots(figsize=(8, 6))\n",
    "\n",
    "plt.bar(labels, mean, width=0.3)\n",
    "plt.errorbar(labels, mean, yerr=std, fmt='x', color='r')\n",
    "\n",
    "# add watermark\n",
    "add_watermark(ax, 1, 1)\n",
    "\n",
    "\n",
    "plt.xticks(rotation=0, fontsize=10)\n",
    "plt.yticks(fontsize=10)\n",
    "plt.ylabel('Mean of Inflation Rate %', fontsize=11)\n",
    "plt.xlabel('Country', fontsize=11)\n",
    "plt.xlim([-1,2])\n",
    "# set title\n",
    "plt.suptitle(\n",
    "    f\"Figure {fig_count}. Mean and Standard Deviation of 1961-2023 Inflation Rate: UAE vs. US\", y=0.0001, fontsize=10\n",
    ")\n",
    "fig_count += 1\n",
    "#plt.legend()\n",
    "plt.show()\n",
    "\n"
   ]
  },
  {
   "cell_type": "markdown",
   "id": "58f9ff26-5cef-4b2c-9b24-d2975e48aaef",
   "metadata": {},
   "source": [
    "### Unemployment Rate ###\n",
    "\n",
    "Figure 5 and 6 show that the unemployment rate of the UAE is lower than the US on average, and also less volatile ((2.42±0.58)% vs. (5.77±1.66)%). From 2017-2023, the fluctuation of both countries' unemployment rates followed a similar pattern, although before that they didn't show any correlations."
   ]
  },
  {
   "cell_type": "code",
   "execution_count": null,
   "id": "905c5121-1d37-46ab-99bd-06b06407dbb4",
   "metadata": {
    "editable": true,
    "execution": {
     "iopub.execute_input": "2025-09-30T01:57:06.036403Z",
     "iopub.status.busy": "2025-09-30T01:57:06.035705Z",
     "iopub.status.idle": "2025-09-30T01:57:06.298789Z",
     "shell.execute_reply": "2025-09-30T01:57:06.297785Z"
    },
    "slideshow": {
     "slide_type": ""
    },
    "tags": [
     "remove_input"
    ]
   },
   "outputs": [],
   "source": [
    "# visualize the unemployment rate\n",
    "df2 = economics[30:]\n",
    "x = df2['Year']\n",
    "y = df2['UAE_Unemployment_Rate_Percentage']\n",
    "z = df2['US_Unemployment_Rate_Percentage']\n",
    "\n",
    "\n",
    "# set the style to a dark theme\n",
    "plt.style.use(\"dark_background\")\n",
    "\n",
    "# match website background\n",
    "plt.rcParams[\"figure.facecolor\"] = \"#181818\"\n",
    "plt.rcParams[\"axes.facecolor\"] = \"#181818\"\n",
    "plt.rcParams[\"axes.edgecolor\"] = \"#181818\"\n",
    "\n",
    "fig, ax = plt.subplots(figsize=(8, 6))\n",
    "\n",
    "\n",
    "plt.scatter(x, y, label='UAE')\n",
    "plt.plot(x, y)\n",
    "\n",
    "plt.scatter(x, z, label='US')\n",
    "plt.plot(x, z)\n",
    "\n",
    "# add watermark\n",
    "add_watermark(ax, 1, 1)\n",
    "\n",
    "# set decimal points for x axis\n",
    "ax.xaxis.set_major_formatter(FormatStrFormatter('%.0f'))\n",
    "\n",
    "plt.xticks(rotation=0, fontsize=10)\n",
    "plt.yticks(fontsize=10)\n",
    "plt.ylabel('%', fontsize=11)\n",
    "plt.xlabel('Year', fontsize=11)\n",
    "#plt.xlim([50, 110])\n",
    "# set title\n",
    "plt.suptitle(\n",
    "    f\"Figure {fig_count}. 1991-2023 Unemployment Rate: UAE vs. US\", y=0.0001, fontsize=10\n",
    ")\n",
    "fig_count += 1\n",
    "plt.legend()\n",
    "plt.show()"
   ]
  },
  {
   "cell_type": "code",
   "execution_count": null,
   "id": "5a5d1365-5e2c-45e9-9f62-210fb9c4606b",
   "metadata": {
    "editable": true,
    "execution": {
     "iopub.execute_input": "2025-09-30T01:57:06.303186Z",
     "iopub.status.busy": "2025-09-30T01:57:06.302684Z",
     "iopub.status.idle": "2025-09-30T01:57:06.517483Z",
     "shell.execute_reply": "2025-09-30T01:57:06.516771Z"
    },
    "slideshow": {
     "slide_type": ""
    },
    "tags": [
     "remove_input"
    ]
   },
   "outputs": [],
   "source": [
    "# visualiza the mean and standard deviations of unemployment rate\n",
    "UAE_unemployment_mean = df2['UAE_Unemployment_Rate_Percentage'].mean()\n",
    "UAE_unemployment_std = df2['UAE_Unemployment_Rate_Percentage'].std()\n",
    "US_unemployment_mean = df2['US_Unemployment_Rate_Percentage'].mean()\n",
    "US_unemployment_std = df2['US_Unemployment_Rate_Percentage'].std()\n",
    "\n",
    "mean = np.array([UAE_unemployment_mean, US_unemployment_mean])\n",
    "std = np.array([UAE_unemployment_std, US_unemployment_std])\n",
    "labels = np.array(['UAE', 'US'])\n",
    "\n",
    "# set the style to a dark theme\n",
    "plt.style.use(\"dark_background\")\n",
    "\n",
    "# match website background\n",
    "plt.rcParams[\"figure.facecolor\"] = \"#181818\"\n",
    "plt.rcParams[\"axes.facecolor\"] = \"#181818\"\n",
    "plt.rcParams[\"axes.edgecolor\"] = \"#181818\"\n",
    "\n",
    "fig, ax = plt.subplots(figsize=(8, 6))\n",
    "\n",
    "plt.bar(labels, mean, width=0.3)\n",
    "plt.errorbar(labels, mean, yerr=std, fmt='x', color='r')\n",
    "\n",
    "# add watermark\n",
    "add_watermark(ax, 1, 1)\n",
    "\n",
    "plt.xticks(rotation=0, fontsize=10)\n",
    "plt.yticks(fontsize=10)\n",
    "plt.ylabel('Mean of Unemployment Rate %', fontsize=11)\n",
    "plt.xlabel('Country', fontsize=11)\n",
    "plt.xlim([-1,2])\n",
    "# set title\n",
    "plt.suptitle(\n",
    "    f\"Figure {fig_count}. Mean and Standard Deviation of 1991-2023 Unemployment Rate: UAE vs. US\", y=0.0001, fontsize=10\n",
    ")\n",
    "fig_count += 1\n",
    "#plt.legend()\n",
    "plt.show()\n",
    "\n"
   ]
  },
  {
   "cell_type": "markdown",
   "id": "d66bca18-ed0a-449a-990a-0ce236389a41",
   "metadata": {},
   "source": [
    "### Currency Volatility ###\n",
    "\n",
    "The UAE uses the Emirati dirham (AED) as its official currency. The UAE dirhuam is pegged against US dollar at a rate of 3.6725, a policy in place since 1973. Therefore the AED and USD have the same volatility. This policy ensures stability and predictability in the exchange rate."
   ]
  },
  {
   "cell_type": "markdown",
   "id": "fe6f5b6e-1ef8-4c02-80b1-1b1dadeef579",
   "metadata": {},
   "source": [
    "## Political Stability ##\n",
    "\n",
    "### Military history ###\n",
    "\n",
    "The UAE Armed Forces participated in multiple conflicts, mostly in the Middle East:\n",
    "\n",
    "+ From 1977 to 1979 the UAE Army contributed 750 men to the Arab Deterrent Force peacekeeping mission in Lebanon.\n",
    "+ During 1990–1991, the Armed Forces participated in the first Gulf War. 10 Emirati soldiers lost their lives in liberating Kuwait.\n",
    "+ The UAE Armed Forces were also deployed in Eastern Europe and joined NATO's Kosovo Force peacekeeping mission undertaking aid missions to thousands of fleeing refugees on the Albanian border. This was the first time Emirati troops uniform was switched to the woodland camouflage compared to their regular home desert camouflage.\n",
    "+ The UAE Armed Forces also participated in the peacekeeping mission in Somalia from 1993 to 1994.\n",
    "+ The UAE Armed Forces is also the only Arab country to commit troops to maintain security and participate in humanitarian aid missions to Afghanistan.\n",
    "+ The Emirati special Forces, the Presidential Guards, were deployed to maintain security in War in Afghanistan against the Taliban.\n",
    "+ In March 2011, the UAE joined the enforcement of the no-fly-zone over Libya by sending six F-16 and six Mirage 2000 multi-role fighter aircraft.\n",
    "+ In 2015 the UAE joined the Saudi-led coalition intervention in Yemen by sending 30 UAEAF F16 Desert Falcons to Yemen. The intervention was followed by Emirati ground troops deployment in Southern Yemen mainly focusing on targeting terrorist cells such as the Al-Qaeda in the Arabian Peninsula and the Islamic State.\n",
    "\n",
    "\n",
    "### WGI ###\n",
    "\n",
    "The [Worldwide Governance Indicators (WGI)](https://www.worldbank.org/en/publication/worldwide-governance-indicators) features the following six indicators:\n",
    "\n",
    "+ Voice and Accountability\n",
    "+ Political Stability and Absence of Violence/Terrorism\n",
    "+ Government Effectiveness\n",
    "+ Regulatory Quality\n",
    "+ Rule of Law\n",
    "+ Control of Corruption\n",
    "\n",
    "Figure 7 shows the percentile rank of WGI of the UAE and US. Overall both countries show high political stability. Most of both countries' indicators have a percentile rank close to or above 80%, except that the Voice and Accountability indicator of the UAE has a rank of 18%, and the Political Stability indicator of the US has a rank of 45%.\n",
    "\n",
    "From the above information and analysis, we see that the UAE shows tendency of active involvement in international wars, while maintaining the internal political stability.  "
   ]
  },
  {
   "cell_type": "code",
   "execution_count": null,
   "id": "91e6bd4a-39fa-4e54-a356-cd82ec261f4c",
   "metadata": {
    "editable": true,
    "execution": {
     "iopub.execute_input": "2025-09-30T01:57:06.521695Z",
     "iopub.status.busy": "2025-09-30T01:57:06.521026Z",
     "iopub.status.idle": "2025-09-30T01:57:06.771766Z",
     "shell.execute_reply": "2025-09-30T01:57:06.771032Z"
    },
    "slideshow": {
     "slide_type": ""
    },
    "tags": [
     "remove_input"
    ]
   },
   "outputs": [],
   "source": [
    "# visualize the political stability indicator\n",
    "df3 = political_stability[1:3]\n",
    "\n",
    "# set the style to a dark theme\n",
    "plt.style.use(\"dark_background\")\n",
    "\n",
    "# match website background\n",
    "plt.rcParams[\"figure.facecolor\"] = \"#181818\"\n",
    "plt.rcParams[\"axes.facecolor\"] = \"#181818\"\n",
    "plt.rcParams[\"axes.edgecolor\"] = \"#181818\"\n",
    "\n",
    "fig, ax = plt.subplots(figsize=(8, 6))\n",
    "\n",
    "ind = np.arange(len(df3['Country']))  # the x locations for the groups\n",
    "width = 0.4  # the width of the bars\n",
    "\n",
    "rects1 = ax.bar(ind-width*0.55,  df3['Pol_Sta_Percentile_Rank'], width/5, color=\"grey\", label='Political Stability')\n",
    "rects2 = ax.bar(ind-width/3,  df3['Accountability_Percentile_Rank'], width/5, color=\"#dfbde3\", label='Voice & Accountability')\n",
    "rects3 = ax.bar(ind-width*0.115, df3['Gov_Effe_Percentile_Rank'], width/5, color=\"#37e775\", label='Government Effectiveness')\n",
    "rects4 = ax.bar(ind + width*0.115, df3['Reg_Qua_Percentile_Rank'], width/5, color=\"#5eb1f6\", label='Regulatory Quality')\n",
    "rects5 = ax.bar(ind + width/3, df3['Law_Percentile_Rank'], width/5, color=\"yellow\", label='Rule of Law')\n",
    "rects6 = ax.bar(ind + width*0.55, df3['Corrpt_Ctrl_Percentile_Rank'], width/5, color=\"purple\", label='Control of Corruption')\n",
    "\n",
    "# add label, title, legend\n",
    "ax.set_xticks(ind, df3['Country'])\n",
    "ax.legend()\n",
    "\n",
    "\n",
    "#ax.bar_label(bars, fontsize=10)\n",
    "\n",
    "# add watermark\n",
    "add_watermark(ax, 1, 20)\n",
    "\n",
    "plt.xticks(rotation=0, fontsize=10)\n",
    "plt.yticks(fontsize=10)\n",
    "plt.ylabel('Percentile Rank %', fontsize=11)\n",
    "plt.xlabel('Country', fontsize=11)\n",
    "plt.xlim([-1,2])\n",
    "plt.ylim([0, 150])\n",
    "# set title\n",
    "plt.suptitle(\n",
    "    f\"Figure {fig_count}. Percentile Rank of 2022 Worldwide Governance Indicators of the UAE and US\", y=0.0001, fontsize=10\n",
    ")\n",
    "fig_count += 1\n",
    "plt.show()"
   ]
  },
  {
   "cell_type": "markdown",
   "id": "b7c3eeda-f7ca-439a-958d-a4eaaa2e587b",
   "metadata": {
    "editable": true,
    "slideshow": {
     "slide_type": ""
    },
    "tags": []
   },
   "source": [
    "### How to open a bank account in Dubai for foreigners ###\n",
    "\n",
    "The banks at Dubai requires a personal visit from the non-resident to the bank to apply for opening an account with the following documents:\n",
    "\n",
    "+ Passport\n",
    "+ Proof of address\n",
    "+ Personal bank statements for the last 6 months\n",
    "+ Documents confirming sources of income\n",
    "+ CV with personal information and work experience\n",
    "\n",
    "If you are not able to physically visit the bank, you can use the following options:\n",
    "\n",
    "+ Hire a financial advisor to serve as your representative to help you open your account remotely.\n",
    "+ If you have an account with international banks like HSBC or Citibank, you might be able to open an account in their UAE branch through their help.\n",
    "\n",
    "## Conclusion ##\n",
    "\n",
    "While it is possible to achieve diversification through investments in Dubai, there isn't any clear evidence that doing so will provide significant advantage for capital protection.\n"
   ]
  },
  {
   "cell_type": "markdown",
   "id": "82e8ee30-cf09-4088-8094-a87922b770b9",
   "metadata": {},
   "source": [
    "## References ##\n",
    "\n",
    "+ https://www.dfat.gov.au/geo/united-arab-emirates/united-arab-emirates-country-brief\n",
    "+ https://georank.org/economy/united-arab-emirates/united-states\n",
    "+ https://www.cia.gov/the-world-factbook/countries/united-arab-emirates/\n",
    "+ https://en.wikipedia.org/wiki/Economy_of_Dubai\n",
    "+ https://www.vance.tech/currency/united-arab-emirates-dirham\n",
    "+ https://en.wikipedia.org/wiki/Military_history_of_the_United_Arab_Emirates\n",
    "+ https://www.uae-eu.com/blog/opening-uae-bank-account-from-abroad.html\n",
    "+ https://www.hsbc.ae/international/open-an-account/\n",
    "+ https://immigrantinvest.com/blog/open-bank-account-uae-en/\n",
    "+ https://virtuzone.com/blog/international-banks-dubai/\n",
    "+ https://www.macrotrends.net/global-metrics/countries/topic-overview"
   ]
  },
  {
   "cell_type": "code",
   "execution_count": null,
   "id": "33d943bc-2721-42ec-8fa2-a62d128b130a",
   "metadata": {},
   "outputs": [],
   "source": []
  },
  {
   "cell_type": "code",
   "execution_count": null,
   "id": "acebea5b-8879-46ad-b0dd-8a9e2d725734",
   "metadata": {},
   "outputs": [],
   "source": []
  }
 ],
 "metadata": {
  "kernelspec": {
   "display_name": "Python 3 (ipykernel)",
   "language": "python",
   "name": "python3"
  },
  "language_info": {
   "codemirror_mode": {
    "name": "ipython",
    "version": 3
   },
   "file_extension": ".py",
   "mimetype": "text/x-python",
   "name": "python",
   "nbconvert_exporter": "python",
   "pygments_lexer": "ipython3",
   "version": "3.11.8"
  }
 },
 "nbformat": 4,
 "nbformat_minor": 5
}
