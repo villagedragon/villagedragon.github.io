{
 "cells": [
  {
   "cell_type": "markdown",
   "id": "3cbee4c5-0f67-4acf-8e2e-62463fef621e",
   "metadata": {
    "editable": true,
    "slideshow": {
     "slide_type": ""
    },
    "tags": []
   },
   "source": [
    "---\n",
    "layout: article\n",
    "title: How to Invest 2000 Dollars in the Optimal Way? - Part I\n",
    "custom_css: article.css\n",
    "include_mathjax: true\n",
    "---"
   ]
  },
  {
   "cell_type": "code",
   "execution_count": null,
   "id": "a2095833-7aa4-44f0-bde7-c576175c784f",
   "metadata": {
    "editable": true,
    "execution": {
     "iopub.execute_input": "2025-09-30T03:25:15.858778Z",
     "iopub.status.busy": "2025-09-30T03:25:15.858522Z",
     "iopub.status.idle": "2025-09-30T03:25:16.745155Z",
     "shell.execute_reply": "2025-09-30T03:25:16.744420Z"
    },
    "slideshow": {
     "slide_type": ""
    },
    "tags": [
     "remove_input"
    ]
   },
   "outputs": [],
   "source": [
    "import os\n",
    "import pandas as pd \n",
    "import numpy as np\n",
    "import matplotlib.pyplot as plt \n",
    "from matplotlib.ticker import FormatStrFormatter\n",
    "\n",
    "# define watermark \n",
    "def add_watermark(ax, x, y):\n",
    "    ax.text(ax.get_xlim()[0]+ x,\n",
    "            ax.get_ylim()[0]+ y,\n",
    "            \"ladydragoncapital\",\n",
    "            alpha=0.3, fontsize=16)\n",
    "\n"
   ]
  },
  {
   "cell_type": "markdown",
   "id": "99ab7286-ed4b-47f1-a597-d6d915b538ed",
   "metadata": {
    "editable": true,
    "slideshow": {
     "slide_type": ""
    },
    "tags": []
   },
   "source": [
    "If you have 2000 dollars in spare, how can you invest it to maximize the returned advantage?\n",
    "\n",
    "## Introduction ##\n",
    "\n",
    "Before we answer the question on how to maximize advantage, let's first define advantage.\n",
    "\n",
    "The advantage of an investment includes the following two aspects:\n",
    "\n",
    "+ Safety\n",
    "\n",
    "  To increase the safety of the investment, portfolio diversification is very crucial, because it can decrease the impact of any single investment on your overall portfolio. Portfolio diversification can be done through the following ways:\n",
    "\n",
    "    + Regions: Investing in foreign jurisdictions\n",
    "    + Asset classes: Different asset classes include real estate, stocks, bonds, etc..\n",
    "      \n",
    "+ Interest\n",
    "\n",
    "  By choosing the certain asset classes in the certain countries, we can increase the interest of our investment.\n",
    "\n",
    "In this article, part I of the whole series to answer the aforementioned question, we will discuss the advantage of investing offshore.\n"
   ]
  },
  {
   "cell_type": "markdown",
   "id": "e25a2f69-05fe-415e-8b80-bf57b9bd1b15",
   "metadata": {
    "editable": true,
    "slideshow": {
     "slide_type": ""
    },
    "tags": []
   },
   "source": [
    "## Investing offshore ##\n",
    "\n",
    "Benefits:\n",
    "\n",
    "Investment in foreign jurisdictions can potentially:\n",
    "  + lower the threat of the political instability of your own nation\n",
    "  + lower the threat of the economic instability of your own nation\n",
    "  + protect your assets from potential legal attacks\n",
    "  + increase the return on the investment\n",
    "    \n",
    "Potential problems:\n",
    "  + Tax complications and more complex regulations\n",
    "  + Limited resource in disputes\n",
    "  + Higher cost for setup, maintenance, and withdrawing fund\n",
    "    \n",
    "\n",
    "Conditions:\n",
    "\n",
    "Investing offshore often requires higher setup fees and more complex process, which needs to be considered into our decision making. For example:\n",
    "  + High initial deposit\n",
    "    \n",
    "    For instance, to open an on-line expat account with [HSBC](https://expatexplorer.hsbc.com/apply/), one of the major international banks in the world, you have to meet **one** of the following criteria:\n",
    "    \n",
    "      + Save or invest at least 75,000 euros within 3 months of opening your account\n",
    "      + Have an annual salary of at least 120,000 euros which must be paid to your HSBC Expat account\n",
    "      + Already be an HSBC Premier customer in another country or region.\n",
    "        \n",
    "  + High balance\n",
    "    \n",
    "    For instance, [Citibank](https://www.citibank.com.sg/en) in Singapore requires you to keep a 200,000 SGD (1 SGD = 0.75 USD, Nov. 2024).\n",
    "    \n",
    "  + Personal visit\n",
    "    \n",
    "    Some banks require you to be present personally to open an account, for instance, banks at [Dubai]( https://www.uae-eu.com/blog/opening-uae-bank-account-from-abroad.html) require you to physically visit the bank when opening an account, or hire a financial consultant to represent you.\n"
   ]
  },
  {
   "cell_type": "markdown",
   "id": "85472bc5-b4c9-42aa-a658-2a9392f49654",
   "metadata": {
    "editable": true,
    "slideshow": {
     "slide_type": ""
    },
    "tags": []
   },
   "source": [
    "## Calculate the advantage of investing offshore ##\n",
    "\n",
    "To measure the advantage of investing, we use the number of months ($N$) that the interest earned from the investment can sustain our living expenses, based on the interest rate ($I$) and the cost of living ($C$). By comparing the $N$ values for investments in different countries, we can determine which option is more advantageous.\n",
    "\n",
    "We want to understand which country offers policies (interest rate, cost of living, and required amount for the investor visa) that can maximize the following $\\Delta{N}$:\n",
    "\n",
    "$$\n",
    "\\Delta{N} = N_{foreign} - N_{domestic}\n",
    "$$\n",
    "\n",
    "$N_{foreign}$: The number of months the return interest of our investment in the foreign country can purchase.\n",
    "\n",
    "$N_{domestic}$: The number of months the return interest of our investment in the home nation can purchase.\n",
    "\n",
    "$N$ is calculated through the following equation:\n",
    "\n",
    "$$\n",
    "N = \\frac{IP(1-T)- F}{C}\n",
    "$$\n",
    "\n",
    "$I$: Annual interest rate\n",
    "\n",
    "$P$: Principal\n",
    "\n",
    "$T$: Tax rate for transferring the money back to the home nation, only applicable when the investor is living in the home nation but investing offshore\n",
    "\n",
    "$F$: Fees, including fees for opening an account, wiring money, maintaining an account, etc..\n",
    "\n",
    "$C$: Cost of living\n",
    "\n",
    "\n",
    "Due to the fact that when the investment is large enough, the investor can acquire the investor visa and access the cost of living in the foreign country, we need to consider the following two scenarios:\n",
    "\n",
    "If your investment ($P$) is smaller than the required amount for the investor visa ($P_{visa}$), i.e. P < $P_{visa}$, the investor stays in the home nation and the cost of living stays the same:\n",
    "$$\n",
    "\\Delta{N} = \\frac{I_{foreign}P(1-T) - F_{foreign}}{C_{domestic}} - \\frac{I_{domestic}P - F_{domestic}}{C_{domestic}}\n",
    "$$\n",
    "\n",
    "However, when $P$ >= $P_{visa}$, this investment will provide us with the investor visa, and allow us to immigrate to the foreign country and enjoy their cost of living:\n",
    "$$\n",
    "\\Delta{N} = \\frac{I_{foreign}P - F_{foreign}}{C_{foreign}} - \\frac{I_{domestic}P - F_{domestic}}{C_{domestic}}\n",
    "$$\n",
    "\n",
    "\n"
   ]
  },
  {
   "cell_type": "code",
   "execution_count": null,
   "id": "797e331d-f5dc-4512-95e1-6a9051e124db",
   "metadata": {
    "editable": true,
    "execution": {
     "iopub.execute_input": "2025-09-30T03:25:16.748916Z",
     "iopub.status.busy": "2025-09-30T03:25:16.748330Z",
     "iopub.status.idle": "2025-09-30T03:25:16.757236Z",
     "shell.execute_reply": "2025-09-30T03:25:16.756579Z"
    },
    "slideshow": {
     "slide_type": ""
    },
    "tags": [
     "remove_input"
    ]
   },
   "outputs": [],
   "source": [
    "# get optimization libs\n",
    "\n",
    "def calculate_domestic_n(i_dom: float, P: float, C_dom: float, F_dom: float):\n",
    "    \"\"\"Calculate the roi of investing domestically\"\"\"\n",
    "    n_dom = (i_dom * P - F_dom) / (C_dom/30)\n",
    "\n",
    "    return n_dom\n",
    "\n",
    "def calculate_foreign_n(P: float, P_visa: float, i_for: float, t: float, C_dom, C_for: float, F_for: float):\n",
    "    \"\"\"Calculate the roi of investing offshore\"\"\"\n",
    "    # if the principal is smaller than the required amount for the investor visa\n",
    "    if P < P_visa:\n",
    "        n_for = (i_for * P * (1-t) - F_for) / (C_dom) \n",
    "    # if the principal is larger than the required amount for the investor visa\n",
    "    else:\n",
    "        n_for = (i_for * P - F_for) / (C_for)\n",
    "    return n_for\n",
    "\n",
    "# define functions\n",
    "def calculate_delta_n(i_dom: float, P: float, C_dom: float, F_dom: float, P_visa: float, i_for: float, t: float, C_for: float, F_for: float):\n",
    "    \"\"\"Calculate the ΔN given the initial values for rent, col, and wealth.\"\"\"\n",
    "    # get all roi terms\n",
    "    n_dom = (i_dom * P - F_dom) / (C_dom)\n",
    "    if P < P_visa:\n",
    "        n_for = (i_for * P * (1-t) - F_for) / (C_dom)\n",
    "    else:\n",
    "        n_for = (i_for * P - F_for) / (C_for)\n",
    "                                         \n",
    "    # calculate delta ROI\n",
    "    delta_n = n_for - n_dom\n",
    "\n",
    "    # finished\n",
    "    return delta_n\n",
    "\n",
    "def absolute_objective_function(*args, **kwargs):\n",
    "    \"\"\"Calculate absolute value for objective function.\"\"\"\n",
    "    return abs(calculate_delta_n(*args, **kwargs))\n"
   ]
  },
  {
   "cell_type": "markdown",
   "id": "8e2f0052-50fd-4fae-b932-e693068e053a",
   "metadata": {
    "editable": true,
    "slideshow": {
     "slide_type": ""
    },
    "tags": []
   },
   "source": [
    "Let's calculate two examples to understand how a country's policies (interest rate, cost of living, and required amount for the investor visa) can affect $\\Delta{N}$.\n",
    "\n",
    "## Ecuador vs. America ##\n",
    "\n",
    "In this example, Ecuador is the foreign country and America domestic. Here are the relevant policies of Ecuador:\n",
    "\n",
    "+ Annual Interest rate: 6.50% for one year certificate of deposit ([Banco Pichincha](https://www.pichincha.com/detalle-producto/personas-inversiones-plazodolar))\n",
    "+ Cost of living: 532.2 USD/month\n",
    "+ Required investment for the investor visa: 40,000 USD\n",
    "+ Tax rate for transfer the money out of Ecuador: 5%\n",
    "+ Fees for opening a bank account and wire transfer: ~ 50 USD\n",
    "\n",
    "The relevant policies of America:\n",
    "+ Annual Interest rate: 3.35% for one year certificate of deposit ([Bank of America](https://www.bankofamerica.com/deposits/bank-cds/cd-accounts/?cm_mmc=DEP-Checking-_-Google-PS-_-Compare-CD-Options-Sitelink-_-Brand_Checking&cq_src=google_ads&cq_med=Deposits&cq_cmp=20763011518&cq_term=bank%20of%20america%20cd%20rates&cq_net=g&cq_plt=gp&gad_source=1&gclid=CjwKCAiAneK8BhAVEiwAoy2HYSjU58wtWBjV8Mnbmvggdd99cjFDI27FuBIiShQI1WLQY))\n",
    "+ Cost of living: 1164.3 USD/month\n",
    "+ Fees for opening an account: 0\n",
    "\n",
    "As shown in Figure 1, regardless of the investment amount, the additional months ($\\Delta{N}$) remain positive and continue to grow as the investment increases, driven by the higher interest rate (6.50% vs. 3.35% for Ecuador vs. America, respectively). When the investment reaches 40,000 USD, $\\Delta{N}$ experiences a sharp rise (jumping from less than 1 to over 3.5) because the investment becomes sufficient to qualify for an investor visa, and the cost of living shifts from domestic (1164.3 USD/month) to foreign (532.2 USD/month). Beyond this threshold, the rate at which $\\Delta{N}$ grows accelerates.\n",
    "\n",
    "On the other hand, the orange line indicates that investing 2,000 USD in Ecuador offers more months than in America. However, the $\\Delta{N}$ value (0.05) is too small to justify the effort. That said, if you have 40,000 USD in spare and are considering relocating to a country with a lower cost of living, investing in Ecuador could potentially offer a significantly greater advantage. In the following articles, we will explore how much the total wealth needs to be, in order to justify this investment of 40,000 USD.\n"
   ]
  },
  {
   "cell_type": "code",
   "execution_count": null,
   "id": "6a59baee-8788-4c9e-8ef3-32980579e261",
   "metadata": {
    "editable": true,
    "execution": {
     "iopub.execute_input": "2025-09-30T03:25:16.760582Z",
     "iopub.status.busy": "2025-09-30T03:25:16.760250Z",
     "iopub.status.idle": "2025-09-30T03:25:17.161617Z",
     "shell.execute_reply": "2025-09-30T03:25:17.160846Z"
    },
    "slideshow": {
     "slide_type": ""
    },
    "tags": [
     "remove_input"
    ]
   },
   "outputs": [],
   "source": [
    "# get optimization libs\n",
    "from scipy.optimize import minimize\n",
    "\n",
    "fig_count = 1\n",
    "# set the style to a dark theme\n",
    "plt.style.use(\"dark_background\")\n",
    "\n",
    "# match website background\n",
    "plt.rcParams[\"figure.facecolor\"] = \"#181818\"\n",
    "plt.rcParams[\"axes.facecolor\"] = \"#181818\"\n",
    "plt.rcParams[\"axes.edgecolor\"] = \"#181818\"\n",
    "\n",
    "# set values\n",
    "I_dom = 0.035\n",
    "C_dom = 1164.4\n",
    "F_dom = 0\n",
    "P_visaec = 40000\n",
    "I_ec = 0.065\n",
    "t_ec = 0.05\n",
    "C_ec = 532.2\n",
    "F_ec = 55\n",
    "\n",
    "\n",
    "fig, ax = plt.subplots(figsize=(8, 6))\n",
    "\n",
    "# ind the value of p that minimizes the absolute value of the objective function\n",
    "result = minimize(absolute_objective_function, 0.5, args=(I_dom, C_dom, F_dom, P_visaec, I_ec, t_ec, C_ec, F_ec))\n",
    "\n",
    "# Extract the optimal value of x\n",
    "threshold_p = result.x[0]\n",
    "\n",
    "# generate p/ΔN pairs\n",
    "p_values = np.arange(-10000, 100000, 100)\n",
    "delta_n_values = np.array([calculate_delta_n(I_dom, p, C_dom, F_dom, P_visaec, I_ec, t_ec, C_ec, F_ec) for p in p_values])\n",
    "\n",
    "# plotting the data\n",
    "plt.plot(p_values, delta_n_values)\n",
    "\n",
    "# plot threshold p value and target 2000 value\n",
    "plt.axvline(x=threshold_p, color='green', linestyle='--', label='Advantage Threshold')\n",
    "plt.axvline(x=2000, color='orange', linestyle='--', label='Two-Thousand-Dollar Investment')\n",
    "\n",
    "# add watermark\n",
    "add_watermark(ax, 1, 1)\n",
    "\n",
    "# adding labels and title\n",
    "plt.xlabel(\"Investment (USD)\")\n",
    "plt.ylabel(\"Additional Months (ΔN)\")\n",
    "plt.xlim([-20000,100000])\n",
    "# set title\n",
    "plt.suptitle(\n",
    "    f\"Figure {fig_count}. Amount of Investment: Ecuador vs. America\", y=0.0001, fontsize=10\n",
    ")\n",
    "fig_count += 1\n",
    "\n",
    "# displaying the plot\n",
    "plt.legend()\n",
    "plt.show()"
   ]
  },
  {
   "cell_type": "markdown",
   "id": "33e7aebe-8188-4519-8f53-8aaddba8b15f",
   "metadata": {
    "editable": true,
    "slideshow": {
     "slide_type": ""
    },
    "tags": []
   },
   "source": [
    "## Singapore vs. America ##\n",
    "\n",
    "In this example, Singapore is the foreign country and America domestic. Here are the relevant policies of Singapore:\n",
    "\n",
    "+ Annual Interest rate: 2.60% for one year certificate of deposit ([Standard Chartered Bank](https://www.sc.com/sg/save/time-deposits/singapore-dollar-time-deposit/#:~:text=For%20a%20limited%20time%20only,Priority%20Private:%202.88%25%20p.a.))\n",
    "+ Cost of living: 1120.0 USD/month\n",
    "+ Required investment for the investor visa: 1.88 million\n",
    "+ Tax rate for transfer the money out of Singapore: 0\n",
    "+ Fees for opening a bank account and wire transfer: ~ 50 USD\n",
    "+ Initial deposit: 37,500 USD\n",
    "\n",
    "The relevant policies of America:\n",
    "+ Annual Interest rate: 3.35% for one year certificate of deposit ([Bank of America](https://www.bankofamerica.com/deposits/bank-cds/cd-accounts/?cm_mmc=DEP-Checking-_-Google-PS-_-Compare-CD-Options-Sitelink-_-Brand_Checking&cq_src=google_ads&cq_med=Deposits&cq_cmp=20763011518&cq_term=bank%20of%20america%20cd%20rates&cq_net=g&cq_plt=gp&gad_source=1&gclid=CjwKCAiAneK8BhAVEiwAoy2HYSjU58wtWBjV8Mnbmvggdd99cjFDI27FuBIiShQI1WLQY))\n",
    "+ Cost of living: 1164.3 USD/month\n",
    "+ Fees for opening an account: 0\n",
    "\n",
    "As shown in Figure 2, regardless of the investment amount, the additional months ($\\Delta{N}$) remains negative and continue to decline as the investment increases, due to the lower interest rate (2.60% vs. 3.35% for Singapore vs. America, respectively). Even though when the investment reaches 1.88 million, causing $\\Delta{N}$ to rise slightly because the amount qualifies for the investor visa and the cost of living drops slightly (1120.0 USD/month vs. 1164.3 USD/month for Singapore vs. America, respectively), the value of $\\Delta{N}$ stays negative. This suggests that, for the certificate of deposit, it is more advantageous to invest in America than in Singapore.\n",
    "\n",
    "Therefore, between these two countries, investing our 2,000 USD domestically is the more advantageous choice."
   ]
  },
  {
   "cell_type": "code",
   "execution_count": null,
   "id": "fe93d9a4-7774-49e3-854c-57d4bf5d5a32",
   "metadata": {
    "editable": true,
    "execution": {
     "iopub.execute_input": "2025-09-30T03:25:17.164959Z",
     "iopub.status.busy": "2025-09-30T03:25:17.164625Z",
     "iopub.status.idle": "2025-09-30T03:25:17.420798Z",
     "shell.execute_reply": "2025-09-30T03:25:17.420000Z"
    },
    "slideshow": {
     "slide_type": ""
    },
    "tags": [
     "remove_input"
    ]
   },
   "outputs": [],
   "source": [
    "# set the style to a dark theme\n",
    "plt.style.use(\"dark_background\")\n",
    "\n",
    "# match website background\n",
    "plt.rcParams[\"figure.facecolor\"] = \"#181818\"\n",
    "plt.rcParams[\"axes.facecolor\"] = \"#181818\"\n",
    "plt.rcParams[\"axes.edgecolor\"] = \"#181818\"\n",
    "\n",
    "# set values\n",
    "I_dom = 0.0335\n",
    "P_sgp = 37500\n",
    "C_dom = 1164.4\n",
    "F_dom = 0\n",
    "P_visasgp = 1875000\n",
    "I_sgp = 0.026\n",
    "t_sgp = 0\n",
    "C_sgp = 1120\n",
    "F_sgp = 50\n",
    "\n",
    "\n",
    "fig, ax = plt.subplots(figsize=(8, 6))\n",
    "\n",
    "# ind the value of p that minimizes the absolute value of the objective function\n",
    "result = minimize(absolute_objective_function, 0.5, args=(I_dom, C_dom, F_dom, P_visasgp, I_sgp, t_sgp, C_sgp, F_sgp))\n",
    "\n",
    "# Extract the optimal value of x\n",
    "threshold_p = result.x[0]\n",
    "\n",
    "# generate p/ΔN pairs\n",
    "p_values = np.arange(-10000, 2500000, 500)\n",
    "delta_n_values = np.array([calculate_delta_n(I_dom, p, C_dom, F_dom, P_visasgp, I_sgp, t_sgp, C_sgp, F_sgp) for p in p_values])\n",
    "\n",
    "# plotting the data\n",
    "plt.plot(p_values, delta_n_values)\n",
    "\n",
    "# plot threshold p value and target 2000 value\n",
    "plt.axvline(x=threshold_p, color='green', linestyle='--', label='Advantage Threshold')\n",
    "plt.axvline(x=2000, color='orange', linestyle='--', label='Two-Thousand-Dollar Investment')\n",
    "\n",
    "# add watermark\n",
    "add_watermark(ax, 1, 1)\n",
    "\n",
    "# adding labels and title\n",
    "plt.xlabel(\"Investment (USD)\")\n",
    "plt.ylabel(\"Additional Months (ΔN)\")\n",
    "plt.xlim([-250000, 2500000])\n",
    "# set title\n",
    "plt.suptitle(\n",
    "    f\"Figure {fig_count}. Amount of Investment: Singapore vs. America\", y=0.0001, fontsize=10\n",
    ")\n",
    "fig_count += 1\n",
    "\n",
    "# displaying the plot\n",
    "plt.legend()\n",
    "plt.show()"
   ]
  },
  {
   "cell_type": "markdown",
   "id": "f8fd6428-5c7a-4e8e-9537-f3d5204d0294",
   "metadata": {
    "editable": true,
    "slideshow": {
     "slide_type": ""
    },
    "tags": []
   },
   "source": [
    "## Conclusion ##\n",
    "\n",
    "As demonstrated in the first example (Ecuador vs. America), investing offshore can offer the following advantages:\n",
    "\n",
    "+ Portfolio diversification, and reducing overall risk;\n",
    "+ Higher interest rates;\n",
    "+ Lower cost of living.\n",
    "\n",
    "However, to access these advantages, investors must meet the minimum investment requirements, such as the 40,000 USD needed for Ecuador's investor visa. For our 2000-dollar fund, specifically considering the option of certificate of deposit, domestic investment remains the more favorable option.\n",
    "\n",
    "In future articles, we will continue to explore the appropriate percentage of wealth to allocate toward investor visas to optimize the advantage, as well as examine other asset classes beyond certificates of deposit."
   ]
  },
  {
   "cell_type": "code",
   "execution_count": null,
   "id": "cf16246d-230b-45b6-b4dd-4a36e84881c0",
   "metadata": {
    "editable": true,
    "slideshow": {
     "slide_type": ""
    },
    "tags": []
   },
   "outputs": [],
   "source": []
  }
 ],
 "metadata": {
  "kernelspec": {
   "display_name": "Python 3 (ipykernel)",
   "language": "python",
   "name": "python3"
  },
  "language_info": {
   "codemirror_mode": {
    "name": "ipython",
    "version": 3
   },
   "file_extension": ".py",
   "mimetype": "text/x-python",
   "name": "python",
   "nbconvert_exporter": "python",
   "pygments_lexer": "ipython3",
   "version": "3.11.8"
  }
 },
 "nbformat": 4,
 "nbformat_minor": 5
}
