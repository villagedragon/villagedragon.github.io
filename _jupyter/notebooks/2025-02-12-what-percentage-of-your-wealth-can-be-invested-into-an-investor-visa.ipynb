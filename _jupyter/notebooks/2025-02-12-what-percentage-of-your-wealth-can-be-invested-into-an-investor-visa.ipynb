{
 "cells": [
  {
   "cell_type": "raw",
   "id": "1c66e936-a8cb-439f-a000-df911eec8bbb",
   "metadata": {},
   "source": [
    "---\n",
    "layout: article\n",
    "title: What percentage of your wealth can be invested into an investor visa?\n",
    "custom_css: article.css\n",
    "include_mathjax: true\n",
    "---"
   ]
  },
  {
   "cell_type": "code",
   "execution_count": null,
   "id": "b525ea39-55d2-4b08-9fe2-cf4c5d418e8f",
   "metadata": {
    "editable": true,
    "execution": {
     "iopub.execute_input": "2025-10-02T01:25:42.228468Z",
     "iopub.status.busy": "2025-10-02T01:25:42.227774Z",
     "iopub.status.idle": "2025-10-02T01:25:43.313573Z",
     "shell.execute_reply": "2025-10-02T01:25:43.312832Z"
    },
    "slideshow": {
     "slide_type": ""
    },
    "tags": [
     "remove_input"
    ]
   },
   "outputs": [],
   "source": [
    "import os\n",
    "import pandas as pd \n",
    "import numpy as np\n",
    "import matplotlib.pyplot as plt \n",
    "from matplotlib.ticker import FormatStrFormatter\n",
    "from scipy.optimize import minimize\n",
    "\n",
    "# define watermark \n",
    "def add_watermark(ax, x, y):\n",
    "    ax.text(ax.get_xlim()[0]+ x,\n",
    "            ax.get_ylim()[0]+ y,\n",
    "            \"ladydragoncapital\",\n",
    "            alpha=0.3, fontsize=16)\n",
    "\n"
   ]
  },
  {
   "cell_type": "markdown",
   "id": "89ea5f26-15a5-4e6a-8a1b-f2122bb989aa",
   "metadata": {
    "editable": true,
    "slideshow": {
     "slide_type": ""
    },
    "tags": []
   },
   "source": [
    "If you are considering investing in an investor visa, what percentage of your wealth can be invested, in order to gain more advantage than the current state?\n",
    "\n",
    "## Define the problem ##\n",
    "\n",
    "Goal: Gain more advantage by extending the time purchased by the current wealth\n",
    "\n",
    "How can an investor visa potentially help us achieve the above goal: \n",
    "\n",
    "+ decrease the cost of living\n",
    "+ increase the passive income\n",
    "\n",
    "However, one prerequisite for acquiring this advantage is that an **appropriate** percentage of wealth is into an investor visa for a required amount of time, to guarantee more months purchased by the total wealth in the foreign country than in the current nation. \n",
    "\n",
    "\n",
    "Then what percentage can fulfill this prerequisite?\n",
    "\n",
    "Our calculation includes two sections:\n",
    "+ Section 1: The cost of living is covered by the remaining wealth and monthly interest\n",
    "+ Section 2: The cost of living is covered by the remaining wealth, monthly interest, and principal\n"
   ]
  },
  {
   "cell_type": "markdown",
   "id": "a2150a56-532d-431f-b15b-c0eb75a0c746",
   "metadata": {
    "editable": true,
    "slideshow": {
     "slide_type": ""
    },
    "tags": []
   },
   "source": [
    "## Section 1 - remaining wealth and monthly interest ##\n",
    "\n",
    "The total wealth is $W$, by investing $p$ percent of $W$ into a certificate of deposit (CD) for $T$ years with an annual interest rate $I$, you can acquire an investor visa. As the investment starts, your cost of living can change from $C_{domestic}$ to $C_{foreign}$. Meanwhile, interest will be received monthly, starting from the end of the first month. When the CD expires, another one-year term at the same interest rate will be initiated to gain more interest. During this period of time (i.e. spending the remaining wealth and monthly interest), the number of additional months, $\\Delta{N}$, is calculated as following:\n",
    "\n",
    "$$\n",
    "\\Delta{N} = N_{foreign} - N_{domestic} \n",
    "$$\n",
    "\n",
    "$$\n",
    "= \\frac{(1-p)W}{C_{foreign} - \\frac{pWI}{12}} - \\frac{W}{C_{domestic}}\n",
    "$$\n"
   ]
  },
  {
   "cell_type": "markdown",
   "id": "75781906-48c0-4220-ae4e-23161ae5a219",
   "metadata": {
    "editable": true,
    "slideshow": {
     "slide_type": ""
    },
    "tags": []
   },
   "source": [
    "Now let us visualize a specific example of section 1. Say you have $62,000$ USD in savings (the average US savings circa 2022), and the average American cost of living is $1164.4$ USD/month (Numbeo circa 2024). You are considering moving to Ecuador, whose average cost of living is $532.2$ USD/month (Numbeo circa 2024). Its investor visa requires $40,000$ USD minimum in the CD for at least $2$ years at an interest rate of $6.5%$ (Banco Pichincha 2025)."
   ]
  },
  {
   "cell_type": "code",
   "execution_count": null,
   "id": "fdb0ee23-af41-484c-8ac3-e5533d268cfe",
   "metadata": {
    "editable": true,
    "execution": {
     "iopub.execute_input": "2025-10-02T01:25:43.317183Z",
     "iopub.status.busy": "2025-10-02T01:25:43.316796Z",
     "iopub.status.idle": "2025-10-02T01:25:43.322749Z",
     "shell.execute_reply": "2025-10-02T01:25:43.322067Z"
    },
    "slideshow": {
     "slide_type": ""
    },
    "tags": [
     "remove_input"
    ]
   },
   "outputs": [],
   "source": [
    "# define functions\n",
    "def calculate_delta_n_interest(p: float, C_for: float, C_dom: float, W: float, I: float):\n",
    "    \"\"\"Calculate the ΔN considering monthly interest.\"\"\"\n",
    "    # get all N terms\n",
    "    N_for = ((1 - p) * W) / (C_for - p * W * I / 12)\n",
    "    N_dom = W / C_dom\n",
    "\n",
    "    # calculate delta N\n",
    "    delta_N = N_for- N_dom \n",
    "\n",
    "    # finished\n",
    "    return delta_N\n",
    "\n",
    "def calculate_p(C_for: float, W: float, I: float, T: float):\n",
    "    \"\"\"Calculate p when given N_for, wealth, cost of living and interest rate\"\"\"\n",
    "    p = (12 * T * C_for - W) / ((T * I - 1) * W)\n",
    "    return p\n",
    "\n",
    "def absolute_objective_function(*args, **kwargs):\n",
    "    \"\"\"Calculate absolute value for objective function.\"\"\"\n",
    "    return abs(calculate_delta_n_interest(*args, **kwargs))"
   ]
  },
  {
   "cell_type": "code",
   "execution_count": null,
   "id": "76723dfa-a763-480c-9a7e-8a8f538650b9",
   "metadata": {
    "editable": true,
    "execution": {
     "iopub.execute_input": "2025-10-02T01:25:43.325664Z",
     "iopub.status.busy": "2025-10-02T01:25:43.325380Z",
     "iopub.status.idle": "2025-10-02T01:25:43.550321Z",
     "shell.execute_reply": "2025-10-02T01:25:43.549577Z"
    },
    "slideshow": {
     "slide_type": ""
    },
    "tags": [
     "remove_input"
    ]
   },
   "outputs": [],
   "source": [
    "# visualize the scenario where monthly interest is received\n",
    "fig_count = 1\n",
    "# set the style to a dark theme\n",
    "plt.style.use(\"dark_background\")\n",
    "\n",
    "# match website background\n",
    "plt.rcParams[\"figure.facecolor\"] = \"#181818\"\n",
    "plt.rcParams[\"axes.facecolor\"] = \"#181818\"\n",
    "plt.rcParams[\"axes.edgecolor\"] = \"#181818\"\n",
    "\n",
    "# set values\n",
    "W = 62000\n",
    "C_for = 532.2\n",
    "C_dom = 1164.4\n",
    "I = 0.065\n",
    "P_visa = 40000\n",
    "T = 2\n",
    "\n",
    "fig, ax = plt.subplots(figsize=(8, 6))\n",
    "\n",
    "# ind the value of p that minimizes the absolute value of the objective function\n",
    "result = minimize(absolute_objective_function, 0.5, args=(C_for, C_dom, W, I))\n",
    "\n",
    "# Extract the optimal value of x\n",
    "threshold_p = result.x[0]\n",
    "\n",
    "# Calculate maximum p considering the 2-year requirement for investment\n",
    "required_p = calculate_p(C_for, W, I, T)\n",
    "\n",
    "\n",
    "# generate p/ΔN pairs\n",
    "p_values = np.arange(0, 1 + 0.01, 0.01)\n",
    "delta_n_values = np.array([calculate_delta_n_interest(p, C_for, C_dom, W, I) for p in p_values])\n",
    "\n",
    "# plotting the data\n",
    "plt.plot(p_values, delta_n_values)\n",
    "\n",
    "# add watermark\n",
    "add_watermark(ax, 0, 60)\n",
    "\n",
    "# plot threshold p value\n",
    "plt.axvline(x=P_visa/W, color='orange', linestyle='--', label='Ecuador Investment Visa')\n",
    "plt.axvline(x=threshold_p, color='green', linestyle='--', label='Advantage Threshold')\n",
    "plt.axvline(x=required_p, color='red', linestyle='--', label='Maximum p')\n",
    "# adding labels and title\n",
    "plt.xlabel(\"% Wealth (p)\")\n",
    "plt.ylabel(\"Additional Months (ΔN)\")\n",
    "\n",
    "# set title\n",
    "plt.suptitle(\n",
    "    f\"Figure {fig_count}. Optimal investment in Ecuador for Average Americans Considering Monthly Interest\", y=0.0001, fontsize=10\n",
    ")\n",
    "fig_count += 1\n",
    "\n",
    "\n",
    "# displaying the plot\n",
    "plt.legend()\n",
    "plt.show()"
   ]
  },
  {
   "cell_type": "markdown",
   "id": "b5278420-97d4-421a-bde2-69236b05bf50",
   "metadata": {
    "editable": true,
    "slideshow": {
     "slide_type": ""
    },
    "tags": []
   },
   "source": [
    "Figure 1 shows us the following points:\n",
    "\n",
    "+ In general, the higher p is, the lower $\\Delta{N}$ you will get. And the reduction rate of $\\Delta{N}$ grows as p increases.\n",
    "\n",
    "+ The green line is the advantage threshold, which indicates as long as $p<0.76$ (i.e. investment < $47,120$ USD), $\\Delta{N} > 0$, which means you can already gain more time from the remaining wealth and interest in the Ecuador than from the total wealth in America.\n",
    "\n",
    "+ Ecuador, whose investor visa requires $40,000$ USD, is below the advantage threshold, as shown by the orange line. By investing $40,000$ USD into Ecuador, $\\Delta{N} = 16.5$.\n",
    "\n",
    "+ Besides the amount required for an investor visa, there is another factor: $2$ years in the CD. This means within those two years, you can only depend on the remaining wealth and monthly interest, and the principal cannot be withdrawn. The red line shows the maximum $p$ value ($p=0.91$) considering this condition. So as long as $p < 0.91$, you can safely acquire an investor visa. After acquiring the visa, you are free to withdraw the principal and spend it on the cost of living.\n",
    "\n",
    "+ If we want to increase the advantage threshold p, which can potentially give us more options, we can find countries that provide a $C_{for} < 532.2$ USD, or $I > 0.065$, given the current total wealth and cost of living in America.\n",
    "\n",
    "\n",
    "In section one we only considered the remaining wealth and interest, what if we add the principal to the equation, how much more time would we get?\n"
   ]
  },
  {
   "cell_type": "markdown",
   "id": "ec9d2850-4c44-49a3-bb80-a68c37473a27",
   "metadata": {
    "editable": true,
    "slideshow": {
     "slide_type": ""
    },
    "tags": []
   },
   "source": [
    "## Section 2 - remaining wealth, interest, and principal ##\n",
    "\n",
    "After the remaining wealth and interest are completely spent on cost of living, the principal will be withdrawn to pay for the cost of living. The total $\\Delta{N}$ is calculated as following:\n",
    "\n",
    "$$\n",
    "\\Delta{N} = N_{foreign} - N_{domestic} + N_{principal}\n",
    "$$\n",
    "\n",
    "$$\n",
    "= \\frac{(1-p)W}{C_{foreign} - \\frac{pWI}{12}} - \\frac{W}{C_{domestic}} + \\frac{pW}{C_{foreign}}\n",
    "$$\n",
    "\n",
    "Note: Once you have lived in the foreign country longer than T years and you are already qualified for a permanent residency, the principal can be withdrawn at any time. But in our calculation, to maximize $\\Delta{N}$, we only withdraw the principal after the remaining wealth is completely spent."
   ]
  },
  {
   "cell_type": "code",
   "execution_count": null,
   "id": "ae77154d-4c0d-4654-b4d3-f8043c13f1f2",
   "metadata": {
    "editable": true,
    "execution": {
     "iopub.execute_input": "2025-10-02T01:25:43.553301Z",
     "iopub.status.busy": "2025-10-02T01:25:43.553020Z",
     "iopub.status.idle": "2025-10-02T01:25:43.558947Z",
     "shell.execute_reply": "2025-10-02T01:25:43.558324Z"
    },
    "slideshow": {
     "slide_type": ""
    },
    "tags": [
     "remove_input"
    ]
   },
   "outputs": [],
   "source": [
    "# define functions\n",
    "def calculate_delta_n_principal(p: float, C_for: float, C_dom: float, W: float, I: float):\n",
    "    \"\"\"Calculate the ΔN considering monthly interest and principal.\"\"\"\n",
    "    # get all N terms\n",
    "    N_for = ((1 - p) * W) / (C_for - p * W * I / 12)\n",
    "    N_dom = W / C_dom\n",
    "    N_prin = p * W / C_for\n",
    "    \n",
    "    # calculate delta N\n",
    "    delta_N = N_for- N_dom + N_prin \n",
    "\n",
    "    # finished\n",
    "    return delta_N\n",
    "\n",
    "def negative_delta_n_principal(p: float, C_for: float, C_dom: float, W: float, I: float):\n",
    "    \"\"\"Calculate the ΔN considering monthly interest and principal.\"\"\"\n",
    "    # get all N terms\n",
    "    N_for = ((1 - p) * W) / (C_for - p * W * I / 12)\n",
    "    N_dom = W / C_dom\n",
    "    N_prin = p * W / C_for\n",
    "    \n",
    "    # calculate delta N\n",
    "    negative_delta_N = - (N_for- N_dom + N_prin)\n",
    "\n",
    "    # finished\n",
    "    return negative_delta_N\n",
    "\n",
    "def absolute_objective_function(*args, **kwargs):\n",
    "    \"\"\"Calculate absolute value for objective function.\"\"\"\n",
    "    return abs(calculate_delta_n_principal(*args, **kwargs))"
   ]
  },
  {
   "cell_type": "code",
   "execution_count": null,
   "id": "29e0401a-294e-4baf-bcfe-c56f343a81fe",
   "metadata": {
    "editable": true,
    "execution": {
     "iopub.execute_input": "2025-10-02T01:25:43.561783Z",
     "iopub.status.busy": "2025-10-02T01:25:43.561552Z",
     "iopub.status.idle": "2025-10-02T01:25:43.776658Z",
     "shell.execute_reply": "2025-10-02T01:25:43.775920Z"
    },
    "slideshow": {
     "slide_type": ""
    },
    "tags": [
     "remove_input"
    ]
   },
   "outputs": [],
   "source": [
    "# visualize the scenario where monthly interest and principal are considered\n",
    "\n",
    "# set the style to a dark theme\n",
    "plt.style.use(\"dark_background\")\n",
    "\n",
    "# match website background\n",
    "plt.rcParams[\"figure.facecolor\"] = \"#181818\"\n",
    "plt.rcParams[\"axes.facecolor\"] = \"#181818\"\n",
    "plt.rcParams[\"axes.edgecolor\"] = \"#181818\"\n",
    "\n",
    "# set values\n",
    "W = 62000\n",
    "C_for = 532.2\n",
    "C_dom = 1164.4\n",
    "I = 0.065\n",
    "P_visa = 40000\n",
    "\n",
    "fig, ax = plt.subplots(figsize=(8, 6))\n",
    "\n",
    "# ind the value of p that minimizes the absolute value of the objective function\n",
    "result = minimize(absolute_objective_function, 0.5, args=(C_for, C_dom, W, I))\n",
    "max_delta_n = minimize(negative_delta_n_principal, 0.5, args=(C_for, C_dom, W, I))\n",
    "# Extract the optimal value of x\n",
    "threshold_p = result.x[0]\n",
    "max_delta_n_p = max_delta_n.x[0]\n",
    "\n",
    "\n",
    "# generate p/ΔN pairs\n",
    "p_values = np.arange(0, 1 + 0.01, 0.01)\n",
    "delta_n_values = np.array([calculate_delta_n_principal(p, C_for, C_dom, W, I) for p in p_values])\n",
    "\n",
    "# plotting the data\n",
    "plt.plot(p_values, delta_n_values)\n",
    "\n",
    "# add watermark\n",
    "add_watermark(ax, 0, 20)\n",
    "\n",
    "# plot threshold p value\n",
    "#plt.axvline(x=threshold_p, color='green', linestyle='--', label='Advantage Threshold')\n",
    "plt.axvline(x=max_delta_n_p, color='pink', linestyle='--', label='Maximum Months ')\n",
    "plt.axvline(x=P_visa/W, color='orange', linestyle='--', label='Ecuador Investment Visa')\n",
    "plt.axvline(x=required_p, color='red', linestyle='--', label='Maximum p ')\n",
    "\n",
    "# adding labels and title\n",
    "plt.xlabel(\"% Wealth (p)\")\n",
    "plt.ylabel(\"Additional Months (ΔN)\")\n",
    "\n",
    "# set title\n",
    "plt.suptitle(\n",
    "    f\"Figure {fig_count}. Optimal investment in Ecuador for Average Americans Considering Monthly Interest and Principal\", y=0.0001, fontsize=10\n",
    ")\n",
    "fig_count += 1\n",
    "\n",
    "\n",
    "# displaying the plot\n",
    "plt.ylim([-10, 100])\n",
    "plt.legend()\n",
    "plt.show()"
   ]
  },
  {
   "cell_type": "markdown",
   "id": "0a2a16f1-e055-4110-81c3-c082c9e1bd7d",
   "metadata": {
    "editable": true,
    "slideshow": {
     "slide_type": ""
    },
    "tags": []
   },
   "source": [
    "Now let's continue to use Ecuador as an example to visualize section 2. The data used in the calculation are the same with the example in section 1:\n",
    "\n",
    "+ $W = 62,000$ USD\n",
    "+ $C_{domestic} = 1164.4$ USD\n",
    "+ $C_{foreign} = 532.2$ USD\n",
    "+ $I = 0.065$\n",
    "+ Required investment for an investor visa: $40,000$ USD\n",
    "+ Required time in the CD: $2$ years\n",
    "\n",
    "From Figure 2, we can see that:\n",
    "\n",
    "+ The orange line indicates that, for the actual required investment ($40,000$ USD), $\\Delta{N} = 91.6$, which means given the current wealth you will be able to live in Ecuador for ~$12$ years, but ~$4.4$ years in America.\n",
    "  \n",
    "+ The orange line is very close to the pink line, which is the p value that gives you the maximum $\\Delta{N}=91.7$ months.\n",
    "\n",
    "+ At any percentage between 0 to 1, $\\Delta{N}$ is positive due to the lower cost of living. However, as we have calculated in section 1, to fulfill the 2-year policy to acquire an investor visa, $p$ has to be equal to or lower than $0.91$. This means, if, for some reason, you want to invest as much as possible into the CD while acquiring an investor visa, the maximum percentage is 91%. Thus you will get 77 additional months from the total wealth in Ecuador than in America. This is significantly lower than the red line, so if your goal is to maximize $\\Delta{N}$, it is not advisable to invest more than $40,000$ USD in the CD.\n",
    "\n",
    "\n",
    "Here you might wonder, what if we only withdraw part of the principal and keep the rest in CD to generate interest? Yes, you can definitely do that, which will offer you even higher $N_{foreign}$, but we'll save that calculation for another article. "
   ]
  },
  {
   "cell_type": "markdown",
   "id": "be503547-3584-45c0-be49-89b115ec640a",
   "metadata": {
    "editable": true,
    "slideshow": {
     "slide_type": ""
    },
    "tags": []
   },
   "source": [
    "## Advanced calculation - interest only ##\n",
    "\n",
    "What if we want the passive income (interest) to cover the cost of living completely, how much the total wealth or how high the interest rate needs to be?\n",
    "\n",
    "$$\n",
    "C_{for} = \\frac{pWI}{12}\n",
    "$$\n",
    "\n",
    "The above goal (i.e. financial freedom) can be achieved in the following scenarios:\n",
    "\n",
    "+ The total wealth $W$ > $98,252$ USD, given I = 0.065 and p = 1\n",
    "+ The annual interest rate $I$ > $0.103$, given W = $62,000$ USD and p = 1"
   ]
  },
  {
   "cell_type": "markdown",
   "id": "b3508a21-a760-4378-87d0-842f02146214",
   "metadata": {
    "editable": true,
    "slideshow": {
     "slide_type": ""
    },
    "tags": []
   },
   "source": [
    "## Conclusion ##\n",
    "\n",
    "The access to lower cost of living and higher interest rate of CD can potentially offer us enormous advantage. Through the above calculation, we will be able to find the right combination of total wealth, required investment, interest rate, and cost of living to optimize the time purchased by the wealth. Even more advantageous, with the right combination of total wealth and interest rate, we can potentially achieve financial freedom.\n",
    "\n",
    "In reality, the interest rate of CD is not always stable, so as an investor, beyond the purpose of obtaining an investor visa, how can we diversify our portfolio to lower the risk and increase the return? In the following articles, we will be exploring other asset classes."
   ]
  }
 ],
 "metadata": {
  "kernelspec": {
   "display_name": "Python 3 (ipykernel)",
   "language": "python",
   "name": "python3"
  },
  "language_info": {
   "codemirror_mode": {
    "name": "ipython",
    "version": 3
   },
   "file_extension": ".py",
   "mimetype": "text/x-python",
   "name": "python",
   "nbconvert_exporter": "python",
   "pygments_lexer": "ipython3",
   "version": "3.11.8"
  }
 },
 "nbformat": 4,
 "nbformat_minor": 5
}
