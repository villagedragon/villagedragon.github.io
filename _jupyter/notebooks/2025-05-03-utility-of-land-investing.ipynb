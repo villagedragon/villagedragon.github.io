{
 "cells": [
  {
   "cell_type": "markdown",
   "id": "34611363-a998-4d07-8bc9-e86ee644d541",
   "metadata": {
    "editable": true,
    "slideshow": {
     "slide_type": ""
    },
    "tags": []
   },
   "source": [
    "---\n",
    "layout: article\n",
    "title: Utility of land investing\n",
    "custom_css: article.css\n",
    "include_mathjax: true\n",
    "---"
   ]
  },
  {
   "cell_type": "code",
   "execution_count": null,
   "id": "59e02eba-6883-48cd-93c5-e3b27295724e",
   "metadata": {
    "editable": true,
    "execution": {
     "iopub.execute_input": "2025-09-30T01:57:13.802453Z",
     "iopub.status.busy": "2025-09-30T01:57:13.802134Z",
     "iopub.status.idle": "2025-09-30T01:57:14.765554Z",
     "shell.execute_reply": "2025-09-30T01:57:14.764773Z"
    },
    "slideshow": {
     "slide_type": ""
    },
    "tags": [
     "remove_input"
    ]
   },
   "outputs": [],
   "source": [
    "# import necessary libs (available in jupyter/scipy-notebook docker image)\n",
    "import os\n",
    "import pandas as pd \n",
    "import numpy as np\n",
    "import math\n",
    "import matplotlib.pyplot as plt \n",
    "from matplotlib.ticker import FormatStrFormatter\n",
    "\n",
    "# define watermark \n",
    "def add_watermark(ax, x, y):\n",
    "    ax.text(ax.get_xlim()[0]+ x,\n",
    "            ax.get_ylim()[0]+ y,\n",
    "            \"ladydragoncapital\",\n",
    "            alpha=0.3, fontsize=16)\n",
    "\n",
    "\n",
    "# globals\n",
    "HOME_DIR = '/home/jovyan/_jupyter'\n",
    "DATA_DIR = os.path.join(HOME_DIR, 'data')\n",
    "\n",
    "# read in csv data\n",
    "assets = pd.read_csv(os.path.join(DATA_DIR, 'land_data_05132025.csv'))"
   ]
  },
  {
   "cell_type": "markdown",
   "id": "f618cfd9-3feb-4874-9869-5b3ff7d62b06",
   "metadata": {
    "editable": true,
    "slideshow": {
     "slide_type": ""
    },
    "tags": []
   },
   "source": [
    "In this article, we want to calculate the utility of land investing. This calculation will allow us to not only select from different asset classes, such as land vs. index fund, but also select from multiple options of land. \n",
    "\n",
    "Based on our current understanding, the utility of land is a function of monetary return, territory, risk, and liquidity, as below:"
   ]
  },
  {
   "cell_type": "markdown",
   "id": "1793b903-b602-41de-b903-9fed523a378e",
   "metadata": {
    "editable": true,
    "slideshow": {
     "slide_type": ""
    },
    "tags": []
   },
   "source": [
    "$$\n",
    "U_{land} = \\frac{M × T}{R × L}\n",
    "$$\n",
    "\n",
    "Where:\n",
    "+ M: monetary growth\n",
    "+ T: territory size\n",
    "+ R: risk, i.e. standard deviation\n",
    "+ L: liquidity, i.e. time required to liquidate the asset\n",
    "\n",
    "Monetary growth, $M$, is calculated as the following:\n",
    "\n",
    "$$\n",
    "M = w × \\frac{\\text{Total net gain}}{\\text{Total cost}}\n",
    "$$\n",
    "\n",
    "$$\n",
    "= w × \\frac{FV + Y - (P + C)}{P+C}\n",
    "$$\n",
    "\n",
    "Where: \n",
    "\n",
    "+ $w$: weight of monetary growth\n",
    "+ $FV$: future value of the asset considering the appreciation and carrying cost such as tax and maintenance.\n",
    "+ $Y$: total revenue from the asset during the ownership, such as rent or profit from agricultural production\n",
    "+ $P$: initial price (investment) of the asset\n",
    "+ $C$: fees for owning the asset, such as closing cost for purchasing land, or fees for purchasing stocks.\n",
    "\n",
    "\n",
    "To calculate the future value of land, we need to consider its annual appreciation, and annual costs such as taxes and maintenance cost.\n",
    "\n",
    "$$\n",
    "FV = P×(1+a−t−m)^n \n",
    "$$\n",
    "\n",
    "Where:\n",
    "\n",
    "+ P: initial investment\n",
    "\n",
    "+ a: annual appreciation rate\n",
    "\n",
    "+ t: property tax rate\n",
    "\n",
    "+ m: maintenance cost rate\n",
    "\n",
    "+ n: years\n",
    "\n",
    "The yield of land can come from rent, agricultural production, timber harvesting, etc. It can be calculated as following:\n",
    "\n",
    "$$\n",
    "Y = Rv × \\frac{(1+g)^n−1}{g}\n",
    "$$\n",
    "\n",
    "Where: \n",
    "\n",
    "+ Rv: revenue of the first year of owning the land\n",
    "\n",
    "+ g: annual rental growth rate, if any\n",
    "\n",
    "\n",
    "So, the monetary utility of land investing is:\n",
    "\n",
    "$$\n",
    "M = w × (\\frac{P×(1+a−t−m)^n + Rv × \\frac{(1+g)^n−1}{g}}{P+C} - 1)\n",
    "$$\n",
    "\n",
    "Based on the above equation, in order to increase the monetary utility, we can lower $P$, $C$, $t$, and/or $m$, or increase $a$, $Rv$, or $g$.\n",
    "\n",
    "\n"
   ]
  },
  {
   "cell_type": "markdown",
   "id": "fa2efc12-f4b9-47f9-affb-953b2a27669d",
   "metadata": {
    "editable": true,
    "slideshow": {
     "slide_type": ""
    },
    "tags": []
   },
   "source": [
    "Next, we look at the calculation of the territory variable:\n",
    "\n",
    "$$\n",
    "T = β × e^{s}\n",
    "$$\n",
    "\n",
    "Where:\n",
    "\n",
    "+ $β$: weight of territory \n",
    "+ $s$: area of the land (acres)\n",
    "  \n",
    "Calculation of risk:\n",
    "\n",
    "$$\n",
    "R = λ × σ^2\n",
    "$$\n",
    "\n",
    "Where:\n",
    "+ $λ$: risk preference or weight of risk\n",
    "+ $σ$: variance of the market price of the asset\n",
    "\n",
    "Calculation of liquidity:\n",
    "$$\n",
    "L = k × log(D)\n",
    "$$\n",
    "\n",
    "Where:\n",
    "\n",
    "+ $k$: weight of liquidity\n",
    "+ $D$: days it takes to liquidate the asset\n",
    "\n",
    "Therefore, the total utility $U$ is:\n",
    "\n",
    "$$\n",
    "U_{land} = \\frac{M × T}{R × L}\n",
    "$$\n",
    "\n",
    "$$\n",
    "U_{land} = \\frac{ w(\\frac{P×(1+a−t−m)^n + R × \\frac{(1+g)^n−1}{g}}{P+C} - 1) (β × e^{s})}{(λ × σ^2)(k × log(D))}\n",
    "$$\n"
   ]
  },
  {
   "cell_type": "markdown",
   "id": "eaf5af74-9b45-4d11-adb1-51f7da124fea",
   "metadata": {
    "editable": true,
    "slideshow": {
     "slide_type": ""
    },
    "tags": []
   },
   "source": [
    "## Land A vs. Land B ##\n",
    "\n",
    "Now let's look at an example of using the above utility function to compare two pieces of lands. The table below shows the data of Land A and B. By plugging the data into the above function, we calculated the utilities of the two assets, as shown in Figure 1. "
   ]
  },
  {
   "cell_type": "code",
   "execution_count": null,
   "id": "a44e1542-fcee-4dee-8e2e-54f63016beb8",
   "metadata": {
    "editable": true,
    "execution": {
     "iopub.execute_input": "2025-09-30T01:57:14.769792Z",
     "iopub.status.busy": "2025-09-30T01:57:14.769408Z",
     "iopub.status.idle": "2025-09-30T01:57:15.100948Z",
     "shell.execute_reply": "2025-09-30T01:57:15.100022Z"
    },
    "slideshow": {
     "slide_type": ""
    },
    "tags": [
     "remove_input"
    ]
   },
   "outputs": [],
   "source": [
    "# plot the land data in a table\n",
    "df = assets[:2].copy()\n",
    "df_transposed = df.set_index(\"Asset\").T.reset_index()  # Moves original headers to a column\n",
    "df_transposed.columns = [\"Asset\"] + list(df['Asset'])  # Rename columns\n",
    "\n",
    "# set the style to a dark theme\n",
    "plt.style.use(\"dark_background\")\n",
    "\n",
    "# match website background\n",
    "plt.rcParams[\"figure.facecolor\"] = \"#181818\"\n",
    "plt.rcParams[\"axes.facecolor\"] = \"#181818\"\n",
    "plt.rcParams[\"axes.edgecolor\"] = \"#181818\"\n",
    "\n",
    "fig, ax = plt.subplots(figsize=(8, 3))  # Adjust size as needed\n",
    "ax.axis(\"off\")  # Hide axes\n",
    "\n",
    "\n",
    "# Plot the table with ALL cells (including headers)\n",
    "table = ax.table(\n",
    "    cellText=df_transposed.values,  # Use ALL values (including 'Asset' column)\n",
    "    colLabels=df_transposed.columns,  # Column headers\n",
    "    loc='center',\n",
    "    cellLoc='center',\n",
    "    colColours=['#40466e'] * len(df_transposed.columns)  # Header color\n",
    ")\n",
    "\n",
    "# Style headers and cells\n",
    "for (i, j), cell in table.get_celld().items():\n",
    "    if i == 0:  # Column headers (top row)\n",
    "        cell.set_text_props(weight='bold', color='white')\n",
    "        cell.set_facecolor('#40466e')\n",
    "    else:\n",
    "        cell.set_text_props(color='white')\n",
    "        cell.set_facecolor('black')\n",
    "    cell.set_edgecolor('gray')\n",
    "\n",
    "\n",
    "\n",
    "# Style adjustments\n",
    "table.auto_set_font_size(False)\n",
    "table.set_fontsize(12)\n",
    "table.scale(1.2, 1.2)  # Scale cell sizes\n",
    "\n",
    "plt.title(\"Table 1. Land A vs. Land B\", pad=20, y=1.15)\n",
    "plt.show()"
   ]
  },
  {
   "cell_type": "code",
   "execution_count": null,
   "id": "8c218e9b-93ba-40ba-a734-c8475c539af9",
   "metadata": {
    "editable": true,
    "execution": {
     "iopub.execute_input": "2025-09-30T01:57:15.104068Z",
     "iopub.status.busy": "2025-09-30T01:57:15.103818Z",
     "iopub.status.idle": "2025-09-30T01:57:15.110392Z",
     "shell.execute_reply": "2025-09-30T01:57:15.109756Z"
    },
    "slideshow": {
     "slide_type": ""
    },
    "tags": [
     "remove_input"
    ]
   },
   "outputs": [],
   "source": [
    "# define monetary growth\n",
    "def monetary_growth(w, P, a, t, m, R, g, n, C):\n",
    "    ap = P * ((1+a-t-m)**n) \n",
    "    re = R * ((1+g)**n - 1)/g\n",
    "    to = P + C\n",
    "    return w * (ap + re - to) / to\n",
    "\n",
    "# define territory\n",
    "def territory(β, s):\n",
    "    return β * (np.exp(s))\n",
    "\n",
    "# define risk\n",
    "def risk(λ, σ):\n",
    "    return λ * (σ**2)\n",
    "\n",
    "# define liquidity\n",
    "def liquidity(k, D):\n",
    "    return D**k\n",
    "\n",
    "\n",
    "# define utility\n",
    "def utility(w, P, a, t, m, R, g, n, C, β, s, λ, σ, k, D):\n",
    "    mo = monetary_growth(w, P, a, t, m, R, g, n, C)\n",
    "    te = territory(β, s)\n",
    "    ri = risk(λ, σ)\n",
    "    li = liquidity(k, D)\n",
    "    return mo * te / ri / li"
   ]
  },
  {
   "cell_type": "code",
   "execution_count": null,
   "id": "fe23e6b7-d67f-4761-8418-876e83e5c2eb",
   "metadata": {
    "editable": true,
    "execution": {
     "iopub.execute_input": "2025-09-30T01:57:15.113110Z",
     "iopub.status.busy": "2025-09-30T01:57:15.112874Z",
     "iopub.status.idle": "2025-09-30T01:57:15.253176Z",
     "shell.execute_reply": "2025-09-30T01:57:15.251720Z"
    },
    "slideshow": {
     "slide_type": ""
    },
    "tags": [
     "remove_input"
    ]
   },
   "outputs": [],
   "source": [
    "# visualize land A vs. land B\n",
    "fig_count = 1\n",
    "\n",
    "# data\n",
    "df['Monetary utility'] = monetary_growth(df['Money weight'], df['Price'], \n",
    "                                        df['Appreciation rate'], df['Tax rate'],\n",
    "                                       df['Maintenance rate'], df['Revenue'], \n",
    "                                        df['Revenue growth rate'],\n",
    "                                       df['Years'], df['Closing cost'])\n",
    "\n",
    "df['Territory utility'] = territory(df['Territory weight'], df['Acre'])\n",
    "df['Risk utility'] = risk(df['Risk weight'], df['Stdv'])\n",
    "df['liquidity utility'] = liquidity(df['Liquidity weight'], df['Liqui days'])\n",
    "\n",
    "df['Utility'] = utility(df['Money weight'], df['Price'], df['Appreciation rate'], df['Tax rate'],\n",
    "                        df['Maintenance rate'], df['Revenue'], df['Revenue growth rate'], df['Years'],\n",
    "                        df['Closing cost'], df['Territory weight'], df['Acre'], df['Risk weight'],\n",
    "                       df['Stdv'], df['Liquidity weight'], df['Liqui days'])\n",
    "\n",
    "fig, ax = plt.subplots(figsize=(8, 6))\n",
    "bars = plt.bar(df['Asset'], df['Utility'], width=0.6)\n",
    "\n",
    "# Add value labels on top of bars\n",
    "for bar in bars:\n",
    "    height = bar.get_height()\n",
    "    plt.text(bar.get_x() + bar.get_width()/2., height,\n",
    "             f'{height:.2f}',\n",
    "             ha='center', va='bottom', fontsize=12)\n",
    "\n",
    "# add watermark\n",
    "add_watermark(ax, 1, 1)\n",
    "\n",
    "# adding labels and title\n",
    "plt.xlabel(\"Asset\")\n",
    "plt.ylabel(\"Utility\")\n",
    "\n",
    "# set title\n",
    "plt.suptitle(\n",
    "    f\"Figure {fig_count}. Utility of assets\", y=0.0001, fontsize=10\n",
    ")\n",
    "fig_count += 1\n",
    "\n",
    "\n",
    "# displaying the plot\n",
    "#plt.legend()\n",
    "plt.show()\n"
   ]
  },
  {
   "cell_type": "markdown",
   "id": "2898e934-3b7d-4dcb-baa7-a8b219258e01",
   "metadata": {
    "editable": true,
    "slideshow": {
     "slide_type": ""
    },
    "tags": []
   },
   "source": [
    "Land A's utility is higher than Land B's (481.04 v.s 159.10) due to the bigger land size (1.00 vs. 0.17 acre) and higher monetary growth resulted from higher revenue (300 vs. 100) and revenue growth rate (0.08 vs. 0.05). "
   ]
  },
  {
   "cell_type": "markdown",
   "id": "f14b315b-548a-4b11-91ce-936e98c4e4c5",
   "metadata": {
    "editable": true,
    "slideshow": {
     "slide_type": ""
    },
    "tags": []
   },
   "source": [
    "## Utility of index-fund investing ##\n",
    "\n",
    "Now let's also calculate the utility of index-fund investing. Since there is no territory involved in owning an index fund, the utility of index fund is only a function of three variables: monetary growth, risk, and liquidity, as the following:\n",
    "\n",
    "$$\n",
    "U_{index} = \\frac{M}{R × L}\n",
    "$$\n",
    "\n",
    "$$\n",
    "U_{index} = \\frac{w(\\frac{P × (1 + r)^n}{P+C_{index}} - 1)}{(λ × σ^2)(k × log(D))}\n",
    "$$\n",
    "\n",
    "Where: \n",
    "+ $P$: initial investment\n",
    "+ $r$: average annual growth rate (including dividends reinvested into the index fund)\n",
    "+ $n$: years\n",
    "+ $C_{index}$: fees to purchase and carry index fund\n",
    "+ $λ$: risk preference\n",
    "+ $σ$: variance (standard deviation) of the market price of the asset\n",
    "+ $k$: weight of liquidity\n",
    "+ $D$: days it takes to liquidate the asset\n",
    "\n",
    "\n",
    "\n",
    "## Land vs. Index Fund ##\n",
    "\n",
    "Let's compare the utility of Land A and Index fund C. The data of the two assets are shown in Table 2:"
   ]
  },
  {
   "cell_type": "code",
   "execution_count": null,
   "id": "d647aa87-d0f3-4d71-ac13-8ef494da73d3",
   "metadata": {
    "editable": true,
    "execution": {
     "iopub.execute_input": "2025-09-30T01:57:15.256867Z",
     "iopub.status.busy": "2025-09-30T01:57:15.256516Z",
     "iopub.status.idle": "2025-09-30T01:57:15.618450Z",
     "shell.execute_reply": "2025-09-30T01:57:15.617677Z"
    },
    "slideshow": {
     "slide_type": ""
    },
    "tags": [
     "remove_input"
    ]
   },
   "outputs": [],
   "source": [
    "\n",
    "df2 = assets.iloc[1:3].copy()\n",
    "\n",
    "# Transpose and reset index\n",
    "df_transposed2 = df2.set_index('Asset').T.reset_index()\n",
    "df_transposed2.columns = ['Asset'] + list(df2['Asset'])  # Rename columns\n",
    "\n",
    "# Create figure and hide axes\n",
    "fig, ax = plt.subplots(figsize=(8, 3))\n",
    "ax.axis('off')\n",
    "\n",
    "# Plot the table with ALL cells (including headers)\n",
    "table = ax.table(\n",
    "    cellText=df_transposed2.values,  # Use ALL values (including 'Asset' column)\n",
    "    colLabels=df_transposed2.columns,  # Column headers\n",
    "    loc='center',\n",
    "    cellLoc='center',\n",
    "    colColours=['#40466e'] * len(df_transposed2.columns)  # Header color\n",
    ")\n",
    "\n",
    "# Style headers and cells\n",
    "for (i, j), cell in table.get_celld().items():\n",
    "    if i == 0:  # Column headers (top row)\n",
    "        cell.set_text_props(weight='bold', color='white')\n",
    "        cell.set_facecolor('#40466e')\n",
    "    else:\n",
    "        cell.set_facecolor('black')\n",
    "    cell.set_edgecolor('gray')\n",
    "\n",
    "\n",
    "plt.title(\"Table 2. Land B vs. Index func C\", pad=20)\n",
    "plt.show()"
   ]
  },
  {
   "cell_type": "code",
   "execution_count": null,
   "id": "6ccd8f03-e99c-491e-9224-7005f1c8f421",
   "metadata": {
    "editable": true,
    "execution": {
     "iopub.execute_input": "2025-09-30T01:57:15.621283Z",
     "iopub.status.busy": "2025-09-30T01:57:15.621048Z",
     "iopub.status.idle": "2025-09-30T01:57:15.626525Z",
     "shell.execute_reply": "2025-09-30T01:57:15.625803Z"
    },
    "slideshow": {
     "slide_type": ""
    },
    "tags": [
     "remove_input"
    ]
   },
   "outputs": [],
   "source": [
    "# define monetary growth\n",
    "def index_monetary_growth(w, P, r, n, C):\n",
    "    ap = P * ((1+r)**n) \n",
    "    to = P + C\n",
    "    return w * (ap - to) / to\n",
    "\n",
    "# define risk\n",
    "def index_risk(λ, σ):\n",
    "    return λ * (σ**2)\n",
    "\n",
    "# define liquidity\n",
    "def index_liquidity(k, D):\n",
    "    return D**k\n",
    "\n",
    "\n",
    "# define utility\n",
    "def index_utility(w, P, r, n, C, λ, σ, k, D):\n",
    "    mo = index_monetary_growth(w, P, r, n, C)\n",
    "    ri = index_risk(λ, σ)\n",
    "    li = index_liquidity(k, D)\n",
    "    return mo / ri / li"
   ]
  },
  {
   "cell_type": "code",
   "execution_count": null,
   "id": "81b9d627-9ddc-4e91-90c6-c81be875f3f6",
   "metadata": {
    "editable": true,
    "execution": {
     "iopub.execute_input": "2025-09-30T01:57:15.629594Z",
     "iopub.status.busy": "2025-09-30T01:57:15.628911Z",
     "iopub.status.idle": "2025-09-30T01:57:15.772798Z",
     "shell.execute_reply": "2025-09-30T01:57:15.771383Z"
    },
    "slideshow": {
     "slide_type": ""
    },
    "tags": [
     "remove_input"
    ]
   },
   "outputs": [],
   "source": [
    "# visualize land B vs. Index fund C\n",
    "df3 = assets[2:3].copy()\n",
    "\n",
    "# data\n",
    "df3['Monetary utility'] = index_monetary_growth(df3['Money weight'], df3['Price'], \n",
    "                                        df3['Appreciation rate'],\n",
    "                                       df3['Years'], df3['Closing cost'])\n",
    "\n",
    "df3['Risk utility'] = index_risk(df3['Risk weight'], df3['Stdv'])\n",
    "df3['liquidity utility'] = index_liquidity(df3['Liquidity weight'], df3['Liqui days'])\n",
    "\n",
    "df3['Utility'] = index_utility(df3['Money weight'], df3['Price'], df3['Appreciation rate'], \n",
    "                        df3['Years'], df3['Closing cost'], df3['Risk weight'],\n",
    "                       df3['Stdv'], df3['Liquidity weight'], df3['Liqui days'])\n",
    "\n",
    "\n",
    "x = ['Land B', 'Index Fund C']\n",
    "y = [df.loc[1,'Utility'], df3.loc[2,'Utility']]\n",
    "\n",
    "fig, ax = plt.subplots(figsize=(8, 6))\n",
    "bars = plt.bar(x, y, width=0.6)\n",
    "\n",
    "# Add value labels on top of bars\n",
    "for bar in bars:\n",
    "    height = bar.get_height()\n",
    "    plt.text(bar.get_x() + bar.get_width()/2., height,\n",
    "             f'{height:.2f}',\n",
    "             ha='center', va='bottom', fontsize=12)\n",
    "\n",
    "# add watermark\n",
    "add_watermark(ax, 1, 40)\n",
    "\n",
    "# adding labels and title\n",
    "plt.xlabel(\"Asset\")\n",
    "plt.ylabel(\"Utility\")\n",
    "\n",
    "# set title\n",
    "plt.suptitle(\n",
    "    f\"Figure {fig_count}. Utility of assets\", y=0.0001, fontsize=10\n",
    ")\n",
    "fig_count += 1\n",
    "\n",
    "\n",
    "# displaying the plot\n",
    "#plt.legend()\n",
    "plt.show()\n"
   ]
  },
  {
   "cell_type": "markdown",
   "id": "ab0f27b1-c238-4cbd-8622-d4acbadf089b",
   "metadata": {
    "editable": true,
    "slideshow": {
     "slide_type": ""
    },
    "tags": []
   },
   "source": [
    "Figure 2 shows that the utility of Land B is slightly higher than Index Fund C, because despite Index Fund C has a higher monetary growth (1.59 vs. 1.19) and less liquidity days (1 vs. 90), it doesn't have the territory variable and has higher risk (0.15 vs. 0.1 respectively)."
   ]
  },
  {
   "cell_type": "markdown",
   "id": "f38d0ae3-57d4-4259-aa04-9a0af9a77929",
   "metadata": {
    "editable": true,
    "slideshow": {
     "slide_type": ""
    },
    "tags": []
   },
   "source": [
    "## Conclusion ##\n",
    "\n",
    "The above analysis showed an example on how to use utility to select a more advantageous asset. It can serve a good foundation for further development, such as:\n",
    "\n",
    "+ adding more variables to the utility function as we understand more about what can be gained from a piece of land\n",
    "\n",
    "+ adjusting the weights of the variable as our wealth grow and priorities change."
   ]
  }
 ],
 "metadata": {
  "kernelspec": {
   "display_name": "Python 3 (ipykernel)",
   "language": "python",
   "name": "python3"
  },
  "language_info": {
   "codemirror_mode": {
    "name": "ipython",
    "version": 3
   },
   "file_extension": ".py",
   "mimetype": "text/x-python",
   "name": "python",
   "nbconvert_exporter": "python",
   "pygments_lexer": "ipython3",
   "version": "3.11.8"
  }
 },
 "nbformat": 4,
 "nbformat_minor": 5
}
