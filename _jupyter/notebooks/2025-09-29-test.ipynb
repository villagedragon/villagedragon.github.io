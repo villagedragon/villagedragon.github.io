{
 "cells": [
  {
   "cell_type": "raw",
   "id": "fa4a6217-756b-4f6c-9b3a-eb17b24fc6e7",
   "metadata": {},
   "source": [
    "---\n",
    "layout: article\n",
    "title: Test\n",
    "custom_css: article.css\n",
    "include_mathjax: true\n",
    "---"
   ]
  },
  {
   "cell_type": "markdown",
   "id": "820434cc-f381-4481-9fd6-406648de79a0",
   "metadata": {},
   "source": [
    "Test"
   ]
  }
 ],
 "metadata": {
  "kernelspec": {
   "display_name": "Python 3 (ipykernel)",
   "language": "python",
   "name": "python3"
  },
  "language_info": {
   "codemirror_mode": {
    "name": "ipython",
    "version": 3
   },
   "file_extension": ".py",
   "mimetype": "text/x-python",
   "name": "python",
   "nbconvert_exporter": "python",
   "pygments_lexer": "ipython3",
   "version": "3.11.8"
  }
 },
 "nbformat": 4,
 "nbformat_minor": 5
}
